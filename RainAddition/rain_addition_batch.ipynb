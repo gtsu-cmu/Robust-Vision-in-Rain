{
 "cells": [
  {
   "cell_type": "code",
   "execution_count": 1,
   "id": "909d995b-78df-4a7e-a2d6-75ba35dfca89",
   "metadata": {},
   "outputs": [],
   "source": [
    "import cv2\n",
    "import matplotlib.pyplot as plt\n",
    "import numpy as np\n",
    "import scipy.io\n",
    "import json\n",
    "\n",
    "from tqdm import tqdm\n",
    "from utilities import create_file_list\n"
   ]
  },
  {
   "cell_type": "code",
   "execution_count": 2,
   "id": "2171e2e8-e1f6-41f6-bb23-9c8a443e6239",
   "metadata": {},
   "outputs": [],
   "source": [
    "def imshow(image):\n",
    "    # print(f'Shape = {image.shape}, min value = {np.min(image)}, max value = {np.max(image)}')\n",
    "    image = np.reshape(image, (image.shape[0], image.shape[1], -1))\n",
    "    plt.figure(figsize=(20, 10))\n",
    "    if image.shape[2] == 3:\n",
    "        image = cv2.cvtColor(image, cv2.COLOR_BGR2RGB)\n",
    "        plt.imshow(image, vmin=0)\n",
    "    else:\n",
    "        plt.imshow(image, cmap='gray', vmin=0)\n",
    "    plt.show()\n",
    "    \n",
    "def constraint_range_01(image):\n",
    "    image = (image - np.min(image))/(np.max(image) - np.min(image))\n",
    "    return image\n",
    "\n",
    "def constraint_min_0(image):\n",
    "    image = (image - np.min(image))\n",
    "    return image\n",
    "\n",
    "def constraint_cut_0(image):\n",
    "    image[image < 0] = 0\n",
    "    return image"
   ]
  },
  {
   "cell_type": "code",
   "execution_count": 3,
   "id": "c1629d4a-f0c8-405e-bf41-5ee19f30430a",
   "metadata": {},
   "outputs": [],
   "source": [
    "def add_rain(city_name, image_name, rain_level, rain_pattern, alpha=0.01, beta=0.005, a=0.01, show_disparity=False, show_depth_raw=False, show_depth=False, show_pattern=False, show_rain_intensity=False, show_rain=False, show_fog=False, show_original=False, show_output=True, show_sample=False):    \n",
    "    city_image_name = city_name + '/' + image_name\n",
    "    camera_calibration_path = 'data/Cityscapes/camera_trainvaltest/camera/train/' + city_image_name + '_camera.json'\n",
    "    camera_calibration_file = open(camera_calibration_path)\n",
    "    camera_calibration = json.load(camera_calibration_file)\n",
    "    camera_calibration_file.close()\n",
    "    baseline = camera_calibration['extrinsic']['baseline']\n",
    "    fxy = (camera_calibration['intrinsic']['fx'] + camera_calibration['intrinsic']['fy'])/2\n",
    "\n",
    "    image_path = 'data/Cityscapes/leftImg8bit_trainvaltest/leftImg8bit/train/' + city_image_name + '_leftImg8bit.png'\n",
    "    image = cv2.imread(image_path)\n",
    "    \n",
    "    rain_pattern_path = 'rain-rendering/data/output/cityscapes/leftImg8bit/train/' + city_name + '/rain/' + rain_level + '/rain_mask/' + rain_pattern + '_leftImg8bit.png'\n",
    "    R_pattern = cv2.imread(rain_pattern_path)\n",
    "    R_pattern = cv2.resize(R_pattern, (2048, 1024))\n",
    "    R_pattern = np.average(R_pattern, axis=2)\n",
    "    R_pattern = constraint_min_0(R_pattern)/255\n",
    "    # R_pattern = constraint_range_01(R_pattern)\n",
    "    R_pattern = R_pattern.astype(np.float32)\n",
    "    R_pattern = cv2.ximgproc.guidedFilter(image, R_pattern, 3, 1e-3)\n",
    "    # R_pattern = constraint_range_01(R_pattern)\n",
    "    R_pattern = constraint_cut_0(R_pattern)\n",
    "\n",
    "    disparity_path = 'data/Cityscapes/disparity_trainvaltest/disparity/train/' + city_image_name + '_disparity.png'\n",
    "    disparity = cv2.imread(disparity_path, cv2.IMREAD_UNCHANGED).astype(np.float32)\n",
    "    disparity[disparity > 0] = (disparity[disparity > 0] - 1)/256\n",
    "    if show_disparity:\n",
    "        print('Disparity')\n",
    "        imshow(disparity)\n",
    "\n",
    "#     depth = baseline*fxy/disparity\n",
    "#     # depth[depth == np.Inf] = 0\n",
    "#     depth[depth == np.Inf] = np.average(depth[depth != np.Inf])\n",
    "    \n",
    "#     if show_depth_raw:\n",
    "#         print('Raw depth map')\n",
    "#         imshow(depth)\n",
    "    \n",
    "#     depth_inverted_rain_path = 'data/RainCityscapes/leftImg8bit_trainval_rain/depth_rain/train/' + city_image_name + '_000019_depth_rain.png'\n",
    "#     depth_inverted_rain = cv2.imread(depth_inverted_rain_path).astype(np.float32)\n",
    "#     depth_rain = 255 - np.average(depth_inverted_rain, axis=2)\n",
    "    \n",
    "    depth_refined_path = 'data/Foggy Cityscapes/depth_stereoscopic_trainvaltest/depth_stereoscopic/train/' + city_image_name + '_depth_stereoscopic.mat'\n",
    "    depth_refined = scipy.io.loadmat(depth_refined_path)\n",
    "    depth_refined = depth_refined['depth_map'].astype(np.float32)\n",
    "    \n",
    "    depth = depth_refined\n",
    "\n",
    "    A0 = 1.0\n",
    "    d1 = 2*fxy*a\n",
    "\n",
    "    # (4)\n",
    "    A = 1 - np.exp(-beta*depth)\n",
    "    A_guided = cv2.ximgproc.guidedFilter(image, A, 10, 1e-3)\n",
    "    A_guided = constraint_cut_0(A_guided)\n",
    "    A_guided = constraint_range_01(A_guided)\n",
    "    \n",
    "    # (3)\n",
    "    t_r = np.exp(-alpha*np.maximum(d1, depth))\n",
    "    t_r_guided = cv2.ximgproc.guidedFilter(image, t_r, 10, 1e-3)\n",
    "    t_r_guided = constraint_cut_0(t_r_guided)\n",
    "    t_r_guided = constraint_range_01(t_r_guided)\n",
    "\n",
    "    # (2)\n",
    "    R = np.multiply(R_pattern, t_r_guided)\n",
    "    \n",
    "    if show_depth:\n",
    "        print('Refined depth map')\n",
    "        imshow(depth)\n",
    "        imshow(np.log(depth))\n",
    "        \n",
    "    if show_rain_intensity:\n",
    "        print('Rain streaks intensity')\n",
    "        # imshow(t_r)\n",
    "        imshow(t_r_guided)\n",
    "    \n",
    "    if show_pattern:\n",
    "        print('Rain pattern')\n",
    "        imshow(R_pattern)\n",
    "\n",
    "    if show_rain:\n",
    "        print('Rain layer')\n",
    "        imshow(R)\n",
    "        \n",
    "    if show_fog and show_depth:\n",
    "        print('Depth map')\n",
    "        imshow(depth)\n",
    "        \n",
    "    if show_fog:\n",
    "        print('Fog layer')\n",
    "        # imshow(A)\n",
    "        imshow(A_guided)\n",
    "\n",
    "    # (1)\n",
    "    output = np.zeros_like(image)\n",
    "    for c in range(output.shape[2]):\n",
    "        output[:, :, c] = image[:, :, c]*(1 - R - A_guided) + 255*(R + A0*A_guided)\n",
    "\n",
    "    if show_original:\n",
    "        print('Original')\n",
    "        imshow(image)\n",
    "        \n",
    "    if show_output:\n",
    "        print('Output')\n",
    "        imshow(output)\n",
    "    \n",
    "    if show_sample:\n",
    "        output_sample_path = 'data/RainCityscapes/leftImg8bit_trainval_rain/leftImg8bit_rain/train/' + image_name + '_000019_leftImg8bit_rain_alpha_0.01_beta_0.005_dropsize_0.01_pattern_6.png'\n",
    "        output_sample = cv2.imread(output_sample_path)\n",
    "        print('Sample')\n",
    "        imshow(output_sample)\n",
    "        \n",
    "    return output"
   ]
  },
  {
   "cell_type": "code",
   "execution_count": 4,
   "id": "49e9fb89-b94e-4705-a8d7-b22b4bc9018d",
   "metadata": {},
   "outputs": [
    {
     "name": "stdout",
     "output_type": "stream",
     "text": [
      "['aachen', 'bochum', 'bremen', 'cologne', 'darmstadt', 'dusseldorf', 'erfurt', 'hamburg', 'hanover', 'jena', 'krefeld', 'monchengladbach', 'strasbourg', 'stuttgart', 'tubingen', 'ulm', 'weimar', 'zurich']\n"
     ]
    }
   ],
   "source": [
    "data_cityscapes_dir = '/home/tunx404/Miscellaneous/18744/data/Cityscapes/leftImg8bit_trainvaltest/leftImg8bit/train'\n",
    "city_name_list, city_path_list = create_file_list(data_cityscapes_dir)\n",
    "print(city_name_list)\n",
    "\n",
    "# %cd data/output_rain\n",
    "# for city_name in city_name_list:\n",
    "#     !mkdir $city_name"
   ]
  },
  {
   "cell_type": "code",
   "execution_count": 6,
   "id": "90515309-ecc6-4bd5-acc0-c94bc91b1d2c",
   "metadata": {},
   "outputs": [
    {
     "name": "stdout",
     "output_type": "stream",
     "text": [
      "14\n",
      "tubingen\n",
      "['tubingen_000000_000019', 'tubingen_000001_000019', 'tubingen_000002_000019', 'tubingen_000003_000019', 'tubingen_000004_000019', 'tubingen_000005_000019', 'tubingen_000006_000019', 'tubingen_000007_000019', 'tubingen_000008_000019', 'tubingen_000009_000019', 'tubingen_000010_000019', 'tubingen_000011_000019', 'tubingen_000012_000019', 'tubingen_000013_000019', 'tubingen_000014_000019', 'tubingen_000015_000019', 'tubingen_000016_000019', 'tubingen_000017_000019', 'tubingen_000018_000019', 'tubingen_000019_000019', 'tubingen_000020_000019', 'tubingen_000021_000019', 'tubingen_000022_000019', 'tubingen_000023_000019', 'tubingen_000024_000019', 'tubingen_000025_000019', 'tubingen_000026_000019', 'tubingen_000027_000019', 'tubingen_000028_000019', 'tubingen_000029_000019', 'tubingen_000030_000019', 'tubingen_000031_000019', 'tubingen_000032_000019', 'tubingen_000033_000019', 'tubingen_000034_000019', 'tubingen_000035_000019', 'tubingen_000036_000019', 'tubingen_000037_000019', 'tubingen_000038_000019', 'tubingen_000039_000019', 'tubingen_000040_000019', 'tubingen_000041_000019', 'tubingen_000042_000019', 'tubingen_000043_000019', 'tubingen_000044_000019', 'tubingen_000045_000019', 'tubingen_000046_000019', 'tubingen_000047_000019', 'tubingen_000048_000019', 'tubingen_000049_000019', 'tubingen_000050_000019', 'tubingen_000051_000019', 'tubingen_000052_000019', 'tubingen_000053_000019', 'tubingen_000054_000019', 'tubingen_000055_000019', 'tubingen_000056_000019', 'tubingen_000057_000019', 'tubingen_000058_000019', 'tubingen_000059_000019', 'tubingen_000060_000019', 'tubingen_000061_000019', 'tubingen_000062_000019', 'tubingen_000063_000019', 'tubingen_000064_000019', 'tubingen_000065_000019', 'tubingen_000066_000019', 'tubingen_000067_000019', 'tubingen_000068_000019', 'tubingen_000069_000019', 'tubingen_000070_000019', 'tubingen_000071_000019', 'tubingen_000072_000019', 'tubingen_000073_000019', 'tubingen_000074_000019', 'tubingen_000075_000019', 'tubingen_000076_000019', 'tubingen_000077_000019', 'tubingen_000078_000019', 'tubingen_000079_000019', 'tubingen_000080_000019', 'tubingen_000081_000019', 'tubingen_000082_000019', 'tubingen_000083_000019', 'tubingen_000084_000019', 'tubingen_000085_000019', 'tubingen_000086_000019', 'tubingen_000087_000019', 'tubingen_000088_000019', 'tubingen_000089_000019', 'tubingen_000090_000019', 'tubingen_000091_000019', 'tubingen_000092_000019', 'tubingen_000093_000019', 'tubingen_000094_000019', 'tubingen_000095_000019', 'tubingen_000096_000019', 'tubingen_000097_000019', 'tubingen_000098_000019', 'tubingen_000099_000019', 'tubingen_000100_000019', 'tubingen_000101_000019', 'tubingen_000102_000019', 'tubingen_000103_000019', 'tubingen_000104_000019', 'tubingen_000105_000019', 'tubingen_000106_000019', 'tubingen_000107_000019', 'tubingen_000108_000019', 'tubingen_000109_000019', 'tubingen_000110_000019', 'tubingen_000111_000019', 'tubingen_000112_000019', 'tubingen_000113_000019', 'tubingen_000114_000019', 'tubingen_000115_000019', 'tubingen_000116_000019', 'tubingen_000117_000019', 'tubingen_000118_000019', 'tubingen_000119_000019', 'tubingen_000120_000019', 'tubingen_000121_000019', 'tubingen_000122_000019', 'tubingen_000123_000019', 'tubingen_000124_000019', 'tubingen_000125_000019', 'tubingen_000126_000019', 'tubingen_000127_000019', 'tubingen_000128_000019', 'tubingen_000129_000019', 'tubingen_000130_000019', 'tubingen_000131_000019', 'tubingen_000132_000019', 'tubingen_000133_000019', 'tubingen_000134_000019', 'tubingen_000135_000019', 'tubingen_000136_000019', 'tubingen_000137_000019', 'tubingen_000138_000019', 'tubingen_000139_000019', 'tubingen_000140_000019', 'tubingen_000141_000019', 'tubingen_000142_000019', 'tubingen_000143_000019']\n"
     ]
    },
    {
     "name": "stderr",
     "output_type": "stream",
     "text": [
      "100%|███████████████████████████████████████████████████████| 144/144 [04:16<00:00,  1.78s/it]\n"
     ]
    },
    {
     "name": "stdout",
     "output_type": "stream",
     "text": [
      "15\n",
      "ulm\n",
      "['ulm_000000_000019', 'ulm_000001_000019', 'ulm_000002_000019', 'ulm_000003_000019', 'ulm_000004_000019', 'ulm_000005_000019', 'ulm_000006_000019', 'ulm_000007_000019', 'ulm_000008_000019', 'ulm_000009_000019', 'ulm_000010_000019', 'ulm_000011_000019', 'ulm_000012_000019', 'ulm_000013_000019', 'ulm_000014_000019', 'ulm_000015_000019', 'ulm_000016_000019', 'ulm_000017_000019', 'ulm_000018_000019', 'ulm_000019_000019', 'ulm_000020_000019', 'ulm_000021_000019', 'ulm_000022_000019', 'ulm_000023_000019', 'ulm_000024_000019', 'ulm_000025_000019', 'ulm_000026_000019', 'ulm_000027_000019', 'ulm_000028_000019', 'ulm_000029_000019', 'ulm_000030_000019', 'ulm_000031_000019', 'ulm_000032_000019', 'ulm_000033_000019', 'ulm_000034_000019', 'ulm_000035_000019', 'ulm_000036_000019', 'ulm_000037_000019', 'ulm_000038_000019', 'ulm_000039_000019', 'ulm_000040_000019', 'ulm_000041_000019', 'ulm_000042_000019', 'ulm_000043_000019', 'ulm_000044_000019', 'ulm_000045_000019', 'ulm_000046_000019', 'ulm_000047_000019', 'ulm_000048_000019', 'ulm_000049_000019', 'ulm_000050_000019', 'ulm_000051_000019', 'ulm_000052_000019', 'ulm_000053_000019', 'ulm_000054_000019', 'ulm_000055_000019', 'ulm_000056_000019', 'ulm_000057_000019', 'ulm_000058_000019', 'ulm_000059_000019', 'ulm_000060_000019', 'ulm_000061_000019', 'ulm_000062_000019', 'ulm_000063_000019', 'ulm_000064_000019', 'ulm_000065_000019', 'ulm_000066_000019', 'ulm_000067_000019', 'ulm_000068_000019', 'ulm_000069_000019', 'ulm_000070_000019', 'ulm_000071_000019', 'ulm_000072_000019', 'ulm_000073_000019', 'ulm_000074_000019', 'ulm_000075_000019', 'ulm_000076_000019', 'ulm_000077_000019', 'ulm_000078_000019', 'ulm_000079_000019', 'ulm_000080_000019', 'ulm_000081_000019', 'ulm_000082_000019', 'ulm_000083_000019', 'ulm_000084_000019', 'ulm_000085_000019', 'ulm_000086_000019', 'ulm_000087_000019', 'ulm_000088_000019', 'ulm_000089_000019', 'ulm_000090_000019', 'ulm_000091_000019', 'ulm_000092_000019', 'ulm_000093_000019', 'ulm_000094_000019']\n"
     ]
    },
    {
     "name": "stderr",
     "output_type": "stream",
     "text": [
      "100%|█████████████████████████████████████████████████████████| 95/95 [02:50<00:00,  1.80s/it]\n"
     ]
    },
    {
     "name": "stdout",
     "output_type": "stream",
     "text": [
      "16\n",
      "weimar\n",
      "['weimar_000000_000019', 'weimar_000001_000019', 'weimar_000002_000019', 'weimar_000003_000019', 'weimar_000004_000019', 'weimar_000005_000019', 'weimar_000006_000019', 'weimar_000007_000019', 'weimar_000008_000019', 'weimar_000009_000019', 'weimar_000010_000019', 'weimar_000011_000019', 'weimar_000012_000019', 'weimar_000013_000019', 'weimar_000014_000019', 'weimar_000015_000019', 'weimar_000016_000019', 'weimar_000017_000019', 'weimar_000018_000019', 'weimar_000019_000019', 'weimar_000020_000019', 'weimar_000021_000019', 'weimar_000022_000019', 'weimar_000023_000019', 'weimar_000024_000019', 'weimar_000025_000019', 'weimar_000026_000019', 'weimar_000027_000019', 'weimar_000028_000019', 'weimar_000029_000019', 'weimar_000030_000019', 'weimar_000031_000019', 'weimar_000032_000019', 'weimar_000033_000019', 'weimar_000034_000019', 'weimar_000035_000019', 'weimar_000036_000019', 'weimar_000037_000019', 'weimar_000038_000019', 'weimar_000039_000019', 'weimar_000040_000019', 'weimar_000041_000019', 'weimar_000042_000019', 'weimar_000043_000019', 'weimar_000044_000019', 'weimar_000045_000019', 'weimar_000046_000019', 'weimar_000047_000019', 'weimar_000048_000019', 'weimar_000049_000019', 'weimar_000050_000019', 'weimar_000051_000019', 'weimar_000052_000019', 'weimar_000053_000019', 'weimar_000054_000019', 'weimar_000055_000019', 'weimar_000056_000019', 'weimar_000057_000019', 'weimar_000058_000019', 'weimar_000059_000019', 'weimar_000060_000019', 'weimar_000061_000019', 'weimar_000062_000019', 'weimar_000063_000019', 'weimar_000064_000019', 'weimar_000065_000019', 'weimar_000066_000019', 'weimar_000067_000019', 'weimar_000068_000019', 'weimar_000069_000019', 'weimar_000070_000019', 'weimar_000071_000019', 'weimar_000072_000019', 'weimar_000073_000019', 'weimar_000074_000019', 'weimar_000075_000019', 'weimar_000076_000019', 'weimar_000077_000019', 'weimar_000078_000019', 'weimar_000079_000019', 'weimar_000080_000019', 'weimar_000081_000019', 'weimar_000082_000019', 'weimar_000083_000019', 'weimar_000084_000019', 'weimar_000085_000019', 'weimar_000086_000019', 'weimar_000087_000019', 'weimar_000088_000019', 'weimar_000089_000019', 'weimar_000090_000019', 'weimar_000091_000019', 'weimar_000092_000019', 'weimar_000093_000019', 'weimar_000094_000019', 'weimar_000095_000019', 'weimar_000096_000019', 'weimar_000097_000019', 'weimar_000098_000019', 'weimar_000099_000019', 'weimar_000100_000019', 'weimar_000101_000019', 'weimar_000102_000019', 'weimar_000103_000019', 'weimar_000104_000019', 'weimar_000105_000019', 'weimar_000106_000019', 'weimar_000107_000019', 'weimar_000108_000019', 'weimar_000109_000019', 'weimar_000110_000019', 'weimar_000111_000019', 'weimar_000112_000019', 'weimar_000113_000019', 'weimar_000114_000019', 'weimar_000115_000019', 'weimar_000116_000019', 'weimar_000117_000019', 'weimar_000118_000019', 'weimar_000119_000019', 'weimar_000120_000019', 'weimar_000121_000019', 'weimar_000122_000019', 'weimar_000123_000019', 'weimar_000124_000019', 'weimar_000125_000019', 'weimar_000126_000019', 'weimar_000127_000019', 'weimar_000128_000019', 'weimar_000129_000019', 'weimar_000130_000019', 'weimar_000131_000019', 'weimar_000132_000019', 'weimar_000133_000019', 'weimar_000134_000019', 'weimar_000135_000019', 'weimar_000136_000019', 'weimar_000137_000019', 'weimar_000138_000019', 'weimar_000139_000019', 'weimar_000140_000019', 'weimar_000141_000019']\n"
     ]
    },
    {
     "name": "stderr",
     "output_type": "stream",
     "text": [
      "100%|███████████████████████████████████████████████████████| 142/142 [04:05<00:00,  1.73s/it]\n"
     ]
    },
    {
     "name": "stdout",
     "output_type": "stream",
     "text": [
      "17\n",
      "zurich\n",
      "['zurich_000000_000019', 'zurich_000001_000019', 'zurich_000002_000019', 'zurich_000003_000019', 'zurich_000004_000019', 'zurich_000005_000019', 'zurich_000006_000019', 'zurich_000007_000019', 'zurich_000008_000019', 'zurich_000009_000019', 'zurich_000010_000019', 'zurich_000011_000019', 'zurich_000012_000019', 'zurich_000013_000019', 'zurich_000014_000019', 'zurich_000015_000019', 'zurich_000016_000019', 'zurich_000017_000019', 'zurich_000018_000019', 'zurich_000019_000019', 'zurich_000020_000019', 'zurich_000021_000019', 'zurich_000022_000019', 'zurich_000023_000019', 'zurich_000024_000019', 'zurich_000025_000019', 'zurich_000026_000019', 'zurich_000027_000019', 'zurich_000028_000019', 'zurich_000029_000019', 'zurich_000030_000019', 'zurich_000031_000019', 'zurich_000032_000019', 'zurich_000033_000019', 'zurich_000034_000019', 'zurich_000035_000019', 'zurich_000036_000019', 'zurich_000037_000019', 'zurich_000038_000019', 'zurich_000039_000019', 'zurich_000040_000019', 'zurich_000041_000019', 'zurich_000042_000019', 'zurich_000043_000019', 'zurich_000044_000019', 'zurich_000045_000019', 'zurich_000046_000019', 'zurich_000047_000019', 'zurich_000048_000019', 'zurich_000049_000019', 'zurich_000050_000019', 'zurich_000051_000019', 'zurich_000052_000019', 'zurich_000053_000019', 'zurich_000054_000019', 'zurich_000055_000019', 'zurich_000056_000019', 'zurich_000057_000019', 'zurich_000058_000019', 'zurich_000059_000019', 'zurich_000060_000019', 'zurich_000061_000019', 'zurich_000062_000019', 'zurich_000063_000019', 'zurich_000064_000019', 'zurich_000065_000019', 'zurich_000066_000019', 'zurich_000067_000019', 'zurich_000068_000019', 'zurich_000069_000019', 'zurich_000070_000019', 'zurich_000071_000019', 'zurich_000072_000019', 'zurich_000073_000019', 'zurich_000074_000019', 'zurich_000075_000019', 'zurich_000076_000019', 'zurich_000077_000019', 'zurich_000078_000019', 'zurich_000079_000019', 'zurich_000080_000019', 'zurich_000081_000019', 'zurich_000082_000019', 'zurich_000083_000019', 'zurich_000084_000019', 'zurich_000085_000019', 'zurich_000086_000019', 'zurich_000087_000019', 'zurich_000088_000019', 'zurich_000089_000019', 'zurich_000090_000019', 'zurich_000091_000019', 'zurich_000092_000019', 'zurich_000093_000019', 'zurich_000094_000019', 'zurich_000095_000019', 'zurich_000096_000019', 'zurich_000097_000019', 'zurich_000098_000019', 'zurich_000099_000019', 'zurich_000100_000019', 'zurich_000101_000019', 'zurich_000102_000019', 'zurich_000103_000019', 'zurich_000104_000019', 'zurich_000105_000019', 'zurich_000106_000019', 'zurich_000107_000019', 'zurich_000108_000019', 'zurich_000109_000019', 'zurich_000110_000019', 'zurich_000111_000019', 'zurich_000112_000019', 'zurich_000113_000019', 'zurich_000114_000019', 'zurich_000115_000019', 'zurich_000116_000019', 'zurich_000117_000019', 'zurich_000118_000019', 'zurich_000119_000019', 'zurich_000120_000019', 'zurich_000121_000019']\n"
     ]
    },
    {
     "name": "stderr",
     "output_type": "stream",
     "text": [
      "100%|███████████████████████████████████████████████████████| 122/122 [03:34<00:00,  1.76s/it]\n"
     ]
    }
   ],
   "source": [
    "# for c in range(2, len(city_name_list)):\n",
    "for c in [2]:\n",
    "    city_name = city_name_list[c]\n",
    "    city_path = city_path_list[c]\n",
    "    \n",
    "    print(c)\n",
    "    print(city_name)\n",
    "\n",
    "    image_name_list, _ = create_file_list(city_path)\n",
    "    for i in range(len(image_name_list)):\n",
    "        temp = image_name_list[i].split('_')\n",
    "        image_name_list[i] = temp[0] + '_' + temp[1] + '_' + temp[2]\n",
    "    print(image_name_list)\n",
    "\n",
    "    output_dir = 'data/output_rain/'\n",
    "    for i in tqdm(range(len(image_name_list))):\n",
    "        city_name  = city_name\n",
    "        image_name = image_name_list[i]\n",
    "\n",
    "        rain_pattern = image_name\n",
    "        type_list = ['H', 'M', 'S']\n",
    "        rain_level_list = ['20mm', '5mm', '2mm']\n",
    "        alpha_list = [1e-2, 2e-3, 1e-4]\n",
    "        beta_list  = [1e-2, 2e-3, 1e-4]\n",
    "        a = 0.1\n",
    "\n",
    "        for (type, rain_level, alpha, beta) in list(zip(type_list, rain_level_list, alpha_list, beta_list)):\n",
    "            output_file_name = output_dir + city_name + '/' + image_name + '_' + type + '.png'\n",
    "            # print(output_file_name)\n",
    "            output = add_rain(city_name, image_name, rain_level, rain_pattern, alpha, beta, a, show_output=False)\n",
    "            cv2.imwrite(output_file_name, output)"
   ]
  },
  {
   "cell_type": "code",
   "execution_count": null,
   "id": "babc4e44-9932-4e7d-acf5-4d37b746b429",
   "metadata": {},
   "outputs": [],
   "source": []
  },
  {
   "cell_type": "markdown",
   "id": "869b3a11-e7dd-4dad-a84d-b464d88839a5",
   "metadata": {},
   "source": [
    "<!-- # Coefficient: alpha -->"
   ]
  }
 ],
 "metadata": {
  "kernelspec": {
   "display_name": "torch",
   "language": "python",
   "name": "torch"
  },
  "language_info": {
   "codemirror_mode": {
    "name": "ipython",
    "version": 3
   },
   "file_extension": ".py",
   "mimetype": "text/x-python",
   "name": "python",
   "nbconvert_exporter": "python",
   "pygments_lexer": "ipython3",
   "version": "3.9.10"
  }
 },
 "nbformat": 4,
 "nbformat_minor": 5
}
