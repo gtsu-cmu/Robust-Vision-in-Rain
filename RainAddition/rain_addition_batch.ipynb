{
 "cells": [
  {
   "cell_type": "code",
   "execution_count": 1,
   "id": "909d995b-78df-4a7e-a2d6-75ba35dfca89",
   "metadata": {},
   "outputs": [],
   "source": [
    "import cv2\n",
    "import matplotlib.pyplot as plt\n",
    "import numpy as np\n",
    "import scipy.io\n",
    "import json\n",
    "import os\n",
    "from tqdm import tqdm\n",
    "from utilities import create_file_list\n",
    "\n",
    "data_dir = '/home/tunx404/Miscellaneous/data/'"
   ]
  },
  {
   "cell_type": "code",
   "execution_count": 2,
   "id": "2171e2e8-e1f6-41f6-bb23-9c8a443e6239",
   "metadata": {},
   "outputs": [],
   "source": [
    "def imshow(image):\n",
    "    # print(f'Shape = {image.shape}, min value = {np.min(image)}, max value = {np.max(image)}')\n",
    "    image = np.reshape(image, (image.shape[0], image.shape[1], -1))\n",
    "    plt.figure(figsize=(20, 10))\n",
    "    if image.shape[2] == 3:\n",
    "        image = cv2.cvtColor(image, cv2.COLOR_BGR2RGB)\n",
    "        plt.imshow(image, vmin=0)\n",
    "    else:\n",
    "        plt.imshow(image, cmap='gray', vmin=0)\n",
    "    plt.show()\n",
    "    \n",
    "def constraint_range_01(image):\n",
    "    image = (image - np.min(image))/(np.max(image) - np.min(image))\n",
    "    return image\n",
    "\n",
    "def constraint_min_0(image):\n",
    "    image = (image - np.min(image))\n",
    "    return image\n",
    "\n",
    "def constraint_cut_0(image):\n",
    "    image[image < 0] = 0\n",
    "    return image"
   ]
  },
  {
   "cell_type": "code",
   "execution_count": 19,
   "id": "c1629d4a-f0c8-405e-bf41-5ee19f30430a",
   "metadata": {},
   "outputs": [],
   "source": [
    "def add_rain(city_name, image_name, rain_level, rain_pattern, alpha=0.01, beta=0.005, a=0.01, show_disparity=False, show_depth_raw=False, show_depth=False, show_pattern=False, show_rain_intensity=False, show_rain=False, show_fog=False, show_original=False, show_output=True, show_sample=False):    \n",
    "    city_image_name = city_name + '/' + image_name\n",
    "    camera_calibration_path = data_dir + 'Cityscapes/camera_trainvaltest/camera/train/' + city_image_name + '_camera.json'\n",
    "    camera_calibration_file = open(camera_calibration_path)\n",
    "    camera_calibration = json.load(camera_calibration_file)\n",
    "    camera_calibration_file.close()\n",
    "    baseline = camera_calibration['extrinsic']['baseline']\n",
    "    fxy = (camera_calibration['intrinsic']['fx'] + camera_calibration['intrinsic']['fy'])/2\n",
    "\n",
    "    image_path = data_dir + 'Cityscapes/leftImg8bit_trainvaltest/leftImg8bit/train/' + city_image_name + '_leftImg8bit.png'\n",
    "    image = cv2.imread(image_path)\n",
    "    \n",
    "    rain_pattern_path = '/home/tunx404/Miscellaneous/18744/rain-rendering/data/output/cityscapes/leftImg8bit/train/' + city_name + '/rain/' + rain_level + '/rain_mask/' + rain_pattern + '_leftImg8bit.png'\n",
    "    R_pattern = cv2.imread(rain_pattern_path)\n",
    "    R_pattern = cv2.resize(R_pattern, (2048, 1024))\n",
    "    R_pattern = np.average(R_pattern, axis=2)\n",
    "    R_pattern = constraint_min_0(R_pattern)/255\n",
    "    # R_pattern = constraint_range_01(R_pattern)\n",
    "    R_pattern = R_pattern.astype(np.float32)\n",
    "    R_pattern = cv2.ximgproc.guidedFilter(image, R_pattern, 3, 1e-3)\n",
    "    # R_pattern = constraint_range_01(R_pattern)\n",
    "    R_pattern = constraint_cut_0(R_pattern)\n",
    "\n",
    "    disparity_path = data_dir + 'Cityscapes/disparity_trainvaltest/disparity/train/' + city_image_name + '_disparity.png'\n",
    "    disparity = cv2.imread(disparity_path, cv2.IMREAD_UNCHANGED).astype(np.float32)\n",
    "    disparity[disparity > 0] = (disparity[disparity > 0] - 1)/256\n",
    "    if show_disparity:\n",
    "        print('Disparity')\n",
    "        imshow(disparity)\n",
    "\n",
    "#     depth = baseline*fxy/disparity\n",
    "#     # depth[depth == np.Inf] = 0\n",
    "#     depth[depth == np.Inf] = np.average(depth[depth != np.Inf])\n",
    "    \n",
    "#     if show_depth_raw:\n",
    "#         print('Raw depth map')\n",
    "#         imshow(depth)\n",
    "    \n",
    "#     depth_inverted_rain_path = 'data/RainCityscapes/leftImg8bit_trainval_rain/depth_rain/train/' + city_image_name + '_000019_depth_rain.png'\n",
    "#     depth_inverted_rain = cv2.imread(depth_inverted_rain_path).astype(np.float32)\n",
    "#     depth_rain = 255 - np.average(depth_inverted_rain, axis=2)\n",
    "    \n",
    "    depth_refined_path = data_dir + 'Foggy Cityscapes/depth_stereoscopic_trainvaltest/depth_stereoscopic/train/' + city_image_name + '_depth_stereoscopic.mat'\n",
    "    depth_refined = scipy.io.loadmat(depth_refined_path)\n",
    "    depth_refined = depth_refined['depth_map'].astype(np.float32)\n",
    "    \n",
    "    depth = depth_refined\n",
    "\n",
    "    A0 = 1.0\n",
    "    d1 = 2*fxy*a\n",
    "\n",
    "    # (4)\n",
    "    A = 1 - np.exp(-beta*depth)\n",
    "    A_guided = cv2.ximgproc.guidedFilter(image, A, 10, 1e-3)\n",
    "    A_guided = constraint_cut_0(A_guided)\n",
    "    A_guided = constraint_range_01(A_guided)\n",
    "    \n",
    "    # (3)\n",
    "    t_r = np.exp(-alpha*np.maximum(d1, depth))\n",
    "    t_r_guided = cv2.ximgproc.guidedFilter(image, t_r, 10, 1e-3)\n",
    "    t_r_guided = constraint_cut_0(t_r_guided)\n",
    "    t_r_guided = constraint_range_01(t_r_guided)\n",
    "\n",
    "    # (2)\n",
    "    R = np.multiply(R_pattern, t_r_guided)\n",
    "    \n",
    "    if show_depth:\n",
    "        print('Refined depth map')\n",
    "        imshow(depth)\n",
    "        imshow(np.log(depth))\n",
    "        \n",
    "    if show_rain_intensity:\n",
    "        print('Rain streaks intensity')\n",
    "        # imshow(t_r)\n",
    "        imshow(t_r_guided)\n",
    "    \n",
    "    if show_pattern:\n",
    "        print('Rain pattern')\n",
    "        imshow(R_pattern)\n",
    "\n",
    "    if show_rain:\n",
    "        print('Rain layer')\n",
    "        imshow(R)\n",
    "        \n",
    "    if show_fog and show_depth:\n",
    "        print('Depth map')\n",
    "        imshow(depth)\n",
    "        \n",
    "    if show_fog:\n",
    "        print('Fog layer')\n",
    "        # imshow(A)\n",
    "        imshow(A_guided)\n",
    "\n",
    "    # (1)\n",
    "    output = np.zeros_like(image)\n",
    "    for c in range(output.shape[2]):\n",
    "        output[:, :, c] = image[:, :, c]*(1 - R - A_guided) + 255*(R + A0*A_guided)\n",
    "\n",
    "    if show_original:\n",
    "        print('Original')\n",
    "        imshow(image)\n",
    "        \n",
    "    if show_output:\n",
    "        print('Output')\n",
    "        imshow(output)\n",
    "    \n",
    "    # if show_sample:\n",
    "    #     output_sample_path = data_dir + 'RainCityscapes/leftImg8bit_trainval_rain/leftImg8bit_rain/train/' + image_name + '_000019_leftImg8bit_rain_alpha_0.01_beta_0.005_dropsize_0.01_pattern_6.png'\n",
    "    #     output_sample = cv2.imread(output_sample_path)\n",
    "    #     print('Sample')\n",
    "    #     imshow(output_sample)\n",
    "        \n",
    "    return output"
   ]
  },
  {
   "cell_type": "code",
   "execution_count": 20,
   "id": "49e9fb89-b94e-4705-a8d7-b22b4bc9018d",
   "metadata": {},
   "outputs": [
    {
     "name": "stdout",
     "output_type": "stream",
     "text": [
      "['aachen', 'bochum', 'bremen', 'cologne', 'darmstadt', 'dusseldorf', 'erfurt', 'hamburg', 'hanover', 'jena', 'krefeld', 'monchengladbach', 'strasbourg', 'stuttgart', 'tubingen', 'ulm', 'weimar', 'zurich']\n",
      "['aachen', 'bochum', 'bremen', 'cologne', 'darmstadt', 'dusseldorf', 'erfurt', 'hamburg', 'hanover', 'jena', 'krefeld', 'monchengladbach', 'strasbourg', 'stuttgart', 'tubingen', 'ulm', 'weimar', 'zurich']\n"
     ]
    }
   ],
   "source": [
    "data_cityscapes_dir = data_dir + 'Cityscapes/leftImg8bit_trainvaltest/leftImg8bit/train'\n",
    "city_name_list, city_path_list = create_file_list(data_cityscapes_dir)\n",
    "\n",
    "print(city_name_list)\n",
    "print(city_path_list)\n",
    "\n",
    "# %cd data/output_rain\n",
    "# for city_name in city_name_list:\n",
    "#     !mkdir $city_name"
   ]
  },
  {
   "cell_type": "code",
   "execution_count": 32,
   "id": "90515309-ecc6-4bd5-acc0-c94bc91b1d2c",
   "metadata": {},
   "outputs": [
    {
     "name": "stdout",
     "output_type": "stream",
     "text": [
      "0\n",
      "aachen\n",
      "/home/tunx404/Miscellaneous/data/Cityscapes/leftImg8bit_trainvaltest/leftImg8bit/train/aachen\n"
     ]
    },
    {
     "name": "stderr",
     "output_type": "stream",
     "text": [
      "100%|████████████████████████████████████████████████████| 174/174 [00:00<00:00, 88784.54it/s]\n"
     ]
    },
    {
     "name": "stdout",
     "output_type": "stream",
     "text": [
      "1\n",
      "bochum\n",
      "/home/tunx404/Miscellaneous/data/Cityscapes/leftImg8bit_trainvaltest/leftImg8bit/train/bochum\n"
     ]
    },
    {
     "name": "stderr",
     "output_type": "stream",
     "text": [
      "100%|██████████████████████████████████████████████████████| 96/96 [00:00<00:00, 71863.86it/s]\n"
     ]
    },
    {
     "name": "stdout",
     "output_type": "stream",
     "text": [
      "2\n",
      "bremen\n",
      "/home/tunx404/Miscellaneous/data/Cityscapes/leftImg8bit_trainvaltest/leftImg8bit/train/bremen\n"
     ]
    },
    {
     "name": "stderr",
     "output_type": "stream",
     "text": [
      "100%|████████████████████████████████████████████████████| 316/316 [00:00<00:00, 50824.45it/s]\n"
     ]
    },
    {
     "name": "stdout",
     "output_type": "stream",
     "text": [
      "3\n",
      "cologne\n",
      "/home/tunx404/Miscellaneous/data/Cityscapes/leftImg8bit_trainvaltest/leftImg8bit/train/cologne\n"
     ]
    },
    {
     "name": "stderr",
     "output_type": "stream",
     "text": [
      "100%|████████████████████████████████████████████████████| 154/154 [00:00<00:00, 69618.76it/s]\n"
     ]
    },
    {
     "name": "stdout",
     "output_type": "stream",
     "text": [
      "4\n",
      "darmstadt\n",
      "/home/tunx404/Miscellaneous/data/Cityscapes/leftImg8bit_trainvaltest/leftImg8bit/train/darmstadt\n"
     ]
    },
    {
     "name": "stderr",
     "output_type": "stream",
     "text": [
      "100%|██████████████████████████████████████████████████████| 85/85 [00:00<00:00, 77218.07it/s]\n"
     ]
    },
    {
     "name": "stdout",
     "output_type": "stream",
     "text": [
      "5\n",
      "dusseldorf\n",
      "/home/tunx404/Miscellaneous/data/Cityscapes/leftImg8bit_trainvaltest/leftImg8bit/train/dusseldorf\n"
     ]
    },
    {
     "name": "stderr",
     "output_type": "stream",
     "text": [
      "100%|████████████████████████████████████████████████████| 221/221 [00:00<00:00, 69611.08it/s]\n"
     ]
    },
    {
     "name": "stdout",
     "output_type": "stream",
     "text": [
      "6\n",
      "erfurt\n",
      "/home/tunx404/Miscellaneous/data/Cityscapes/leftImg8bit_trainvaltest/leftImg8bit/train/erfurt\n"
     ]
    },
    {
     "name": "stderr",
     "output_type": "stream",
     "text": [
      "100%|████████████████████████████████████████████████████| 109/109 [00:00<00:00, 79371.38it/s]\n"
     ]
    },
    {
     "name": "stdout",
     "output_type": "stream",
     "text": [
      "7\n",
      "hamburg\n",
      "/home/tunx404/Miscellaneous/data/Cityscapes/leftImg8bit_trainvaltest/leftImg8bit/train/hamburg\n"
     ]
    },
    {
     "name": "stderr",
     "output_type": "stream",
     "text": [
      "100%|████████████████████████████████████████████████████| 248/248 [00:00<00:00, 43865.70it/s]\n"
     ]
    },
    {
     "name": "stdout",
     "output_type": "stream",
     "text": [
      "8\n",
      "hanover\n",
      "/home/tunx404/Miscellaneous/data/Cityscapes/leftImg8bit_trainvaltest/leftImg8bit/train/hanover\n"
     ]
    },
    {
     "name": "stderr",
     "output_type": "stream",
     "text": [
      "100%|████████████████████████████████████████████████████| 196/196 [00:00<00:00, 47278.79it/s]\n"
     ]
    },
    {
     "name": "stdout",
     "output_type": "stream",
     "text": [
      "9\n",
      "jena\n",
      "/home/tunx404/Miscellaneous/data/Cityscapes/leftImg8bit_trainvaltest/leftImg8bit/train/jena\n"
     ]
    },
    {
     "name": "stderr",
     "output_type": "stream",
     "text": [
      "100%|████████████████████████████████████████████████████| 119/119 [00:00<00:00, 66682.99it/s]\n"
     ]
    },
    {
     "name": "stdout",
     "output_type": "stream",
     "text": [
      "10\n",
      "krefeld\n",
      "/home/tunx404/Miscellaneous/data/Cityscapes/leftImg8bit_trainvaltest/leftImg8bit/train/krefeld\n"
     ]
    },
    {
     "name": "stderr",
     "output_type": "stream",
     "text": [
      "100%|██████████████████████████████████████████████████████| 99/99 [00:00<00:00, 48412.74it/s]\n"
     ]
    },
    {
     "name": "stdout",
     "output_type": "stream",
     "text": [
      "11\n",
      "monchengladbach\n",
      "/home/tunx404/Miscellaneous/data/Cityscapes/leftImg8bit_trainvaltest/leftImg8bit/train/monchengladbach\n"
     ]
    },
    {
     "name": "stderr",
     "output_type": "stream",
     "text": [
      "100%|██████████████████████████████████████████████████████| 94/94 [00:00<00:00, 58392.27it/s]\n"
     ]
    },
    {
     "name": "stdout",
     "output_type": "stream",
     "text": [
      "12\n",
      "strasbourg\n",
      "/home/tunx404/Miscellaneous/data/Cityscapes/leftImg8bit_trainvaltest/leftImg8bit/train/strasbourg\n"
     ]
    },
    {
     "name": "stderr",
     "output_type": "stream",
     "text": [
      "100%|████████████████████████████████████████████████████| 365/365 [00:00<00:00, 87762.04it/s]\n"
     ]
    },
    {
     "name": "stdout",
     "output_type": "stream",
     "text": [
      "13\n",
      "stuttgart\n",
      "/home/tunx404/Miscellaneous/data/Cityscapes/leftImg8bit_trainvaltest/leftImg8bit/train/stuttgart\n"
     ]
    },
    {
     "name": "stderr",
     "output_type": "stream",
     "text": [
      "100%|████████████████████████████████████████████████████| 196/196 [00:00<00:00, 72011.53it/s]\n"
     ]
    },
    {
     "name": "stdout",
     "output_type": "stream",
     "text": [
      "14\n",
      "tubingen\n",
      "/home/tunx404/Miscellaneous/data/Cityscapes/leftImg8bit_trainvaltest/leftImg8bit/train/tubingen\n"
     ]
    },
    {
     "name": "stderr",
     "output_type": "stream",
     "text": [
      "100%|████████████████████████████████████████████████████| 144/144 [00:00<00:00, 88547.10it/s]\n"
     ]
    },
    {
     "name": "stdout",
     "output_type": "stream",
     "text": [
      "15\n",
      "ulm\n",
      "/home/tunx404/Miscellaneous/data/Cityscapes/leftImg8bit_trainvaltest/leftImg8bit/train/ulm\n"
     ]
    },
    {
     "name": "stderr",
     "output_type": "stream",
     "text": [
      "100%|██████████████████████████████████████████████████████| 95/95 [00:00<00:00, 62055.58it/s]\n"
     ]
    },
    {
     "name": "stdout",
     "output_type": "stream",
     "text": [
      "16\n",
      "weimar\n",
      "/home/tunx404/Miscellaneous/data/Cityscapes/leftImg8bit_trainvaltest/leftImg8bit/train/weimar\n"
     ]
    },
    {
     "name": "stderr",
     "output_type": "stream",
     "text": [
      "100%|████████████████████████████████████████████████████| 142/142 [00:00<00:00, 80279.17it/s]\n"
     ]
    },
    {
     "name": "stdout",
     "output_type": "stream",
     "text": [
      "17\n",
      "zurich\n",
      "/home/tunx404/Miscellaneous/data/Cityscapes/leftImg8bit_trainvaltest/leftImg8bit/train/zurich\n"
     ]
    },
    {
     "name": "stderr",
     "output_type": "stream",
     "text": [
      "100%|████████████████████████████████████████████████████| 122/122 [00:00<00:00, 83069.01it/s]\n"
     ]
    }
   ],
   "source": [
    "for c in range(len(city_name_list)):\n",
    "    city_name = city_name_list[c]\n",
    "    city_path = os.path.join(data_cityscapes_dir, city_path_list[c])\n",
    "    \n",
    "    print(c)\n",
    "    print(city_name)\n",
    "    print(city_path)\n",
    "\n",
    "    image_name_list, _ = create_file_list(city_path)\n",
    "    for i in range(len(image_name_list)):\n",
    "        temp = image_name_list[i].split('_')\n",
    "        image_name_list[i] = temp[0] + '_' + temp[1] + '_' + temp[2]\n",
    "    # print(image_name_list) \n",
    "\n",
    "    output_dir = '/home/tunx404/Miscellaneous/data/RainAddition/train/'\n",
    "    for i in tqdm(range(len(image_name_list))):\n",
    "        city_name  = city_name\n",
    "        image_name = image_name_list[i]\n",
    "\n",
    "        rain_pattern = image_name\n",
    "        type_list = ['H', 'M', 'S']\n",
    "        rain_level_list = ['20mm', '5mm', '2mm']\n",
    "        alpha_list = [1e-2, 2e-3, 1e-4]\n",
    "        beta_list  = [1e-2, 2e-3, 1e-4]\n",
    "        a = 0.1\n",
    "\n",
    "        for (type, rain_level, alpha, beta) in list(zip(type_list, rain_level_list, alpha_list, beta_list)):\n",
    "            output_file_name = output_dir + city_name + '/' + image_name + '_' + type + '.png'\n",
    "            if not os.path.exists(output_file_name):\n",
    "                print(output_file_name)\n",
    "                output = add_rain(city_name, image_name, rain_level, rain_pattern, alpha, beta, a, show_output=False)\n",
    "                cv2.imwrite(output_file_name, output)"
   ]
  },
  {
   "cell_type": "code",
   "execution_count": null,
   "id": "babc4e44-9932-4e7d-acf5-4d37b746b429",
   "metadata": {},
   "outputs": [],
   "source": []
  },
  {
   "cell_type": "markdown",
   "id": "869b3a11-e7dd-4dad-a84d-b464d88839a5",
   "metadata": {},
   "source": [
    "<!-- # Coefficient: alpha -->"
   ]
  }
 ],
 "metadata": {
  "kernelspec": {
   "display_name": "torch",
   "language": "python",
   "name": "torch"
  },
  "language_info": {
   "codemirror_mode": {
    "name": "ipython",
    "version": 3
   },
   "file_extension": ".py",
   "mimetype": "text/x-python",
   "name": "python",
   "nbconvert_exporter": "python",
   "pygments_lexer": "ipython3",
   "version": "3.9.10"
  }
 },
 "nbformat": 4,
 "nbformat_minor": 5
}
