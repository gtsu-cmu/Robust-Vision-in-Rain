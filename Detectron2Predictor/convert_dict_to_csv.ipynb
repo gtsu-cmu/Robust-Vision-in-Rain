{
 "cells": [
  {
   "cell_type": "code",
   "execution_count": 1,
   "id": "da20ca69-fcc4-4882-8254-fa94e7282876",
   "metadata": {},
   "outputs": [],
   "source": [
    "from numpy import nan\n",
    "import csv\n",
    "\n",
    "dict_list = []"
   ]
  },
  {
   "cell_type": "code",
   "execution_count": 2,
   "id": "84e9dd75-06ed-40ef-9b57-9caaf1de61e9",
   "metadata": {},
   "outputs": [],
   "source": [
    "dict_list.append({'mIoU': 70.68734658571846, 'fwIoU': 89.40986892089552, 'IoU-Unlabeled': nan, 'IoU-Building': 82.16150910203365, 'IoU-Fence': 50.68258879022204, 'IoU-Pedestrian': 50.74910122176547, 'IoU-Pole': 63.88942771060967, 'IoU-Road': 96.80111602586769, 'IoU-SideWalk': 76.72825030546748, 'IoU-Vegetation': 79.94924415550844, 'IoU-Vehicles': 80.0746662838217, 'IoU-Wall': 77.377136910229, 'IoU-TrafficSign': 36.74080032173738, 'IoU-Sky': 94.39501216311974, 'IoU-TrafficLight': 60.69462276829388, 'IoU-Terrain': 68.69202985566375, 'mACC': 81.94828041861389, 'pACC': 94.06337954181475, 'ACC-Unlabeled': nan, 'ACC-Building': 96.58274078500966, 'ACC-Fence': 66.70330440922818, 'ACC-Pedestrian': 74.74479624836246, 'ACC-Pole': 74.82063530433713, 'ACC-Road': 97.56854620119906, 'ACC-SideWalk': 90.70861778483489, 'ACC-Vegetation': 86.47941081216347, 'ACC-Vehicles': 90.30037550997085, 'ACC-Wall': 90.95665792802194, 'ACC-TrafficSign': 52.66932638424463, 'ACC-Sky': 95.1553372517028, 'ACC-TrafficLight': 70.17634101072015, 'ACC-Terrain': 78.4615558121856})\n",
    "dict_list.append({'mIoU': 74.35781359949523, 'fwIoU': 91.85555616989144, 'IoU-Unlabeled': nan, 'IoU-Building': 89.1865412350437, 'IoU-Fence': 54.189245157146296, 'IoU-Pedestrian': 56.77565161242255, 'IoU-Pole': 67.26535569571827, 'IoU-Road': 96.98086410807338, 'IoU-SideWalk': 78.05739760331535, 'IoU-Vegetation': 83.59803208857586, 'IoU-Vehicles': 82.63844634886745, 'IoU-Wall': 82.99371875251069, 'IoU-TrafficSign': 46.62239523700481, 'IoU-Sky': 97.91084255835432, 'IoU-TrafficLight': 59.0785200066968, 'IoU-Terrain': 71.3545663897085, 'mACC': 84.41072197188991, 'pACC': 95.51354017988575, 'ACC-Unlabeled': nan, 'ACC-Building': 97.04471418537547, 'ACC-Fence': 71.41387956359246, 'ACC-Pedestrian': 80.09740202862498, 'ACC-Pole': 77.9668623694851, 'ACC-Road': 97.68017319364158, 'ACC-SideWalk': 92.72337395582205, 'ACC-Vegetation': 90.02328904326605, 'ACC-Vehicles': 91.52613650623935, 'ACC-Wall': 92.34450371032216, 'ACC-TrafficSign': 60.20818547433168, 'ACC-Sky': 98.58804040720139, 'ACC-TrafficLight': 68.71923100891132, 'ACC-Terrain': 79.00359418775528})\n",
    "dict_list.append({'mIoU': 71.76960353339123, 'fwIoU': 91.38957010498488, 'IoU-Unlabeled': nan, 'IoU-Building': 86.31279385488784, 'IoU-Fence': 54.328144202234974, 'IoU-Pedestrian': 49.26228958487023, 'IoU-Pole': 66.82660116637697, 'IoU-Road': 97.34220491479354, 'IoU-SideWalk': 79.34014638926217, 'IoU-Vegetation': 80.33396152175683, 'IoU-Vehicles': 82.2363458842609, 'IoU-Wall': 82.62402838494616, 'IoU-TrafficSign': 25.50728027600725, 'IoU-Sky': 96.5869613903637, 'IoU-TrafficLight': 60.79420517361406, 'IoU-Terrain': 71.50988319071139, 'mACC': 82.510165913481, 'pACC': 95.2412905450748, 'ACC-Unlabeled': nan, 'ACC-Building': 96.66916207822479, 'ACC-Fence': 69.77230547630259, 'ACC-Pedestrian': 74.11088129950058, 'ACC-Pole': 78.15528485335868, 'ACC-Road': 97.91402099492103, 'ACC-SideWalk': 92.54293256331336, 'ACC-Vegetation': 87.33842519973001, 'ACC-Vehicles': 90.74435701820697, 'ACC-Wall': 92.01832371802615, 'ACC-TrafficSign': 44.17662548106137, 'ACC-Sky': 97.29797577701275, 'ACC-TrafficLight': 70.53513817767467, 'ACC-Terrain': 81.3567242379199})\n",
    "dict_list.append({'mIoU': 65.83072097031543, 'fwIoU': 85.42372167240873, 'IoU-Unlabeled': nan, 'IoU-Building': 72.38015727603954, 'IoU-Fence': 45.2498562354711, 'IoU-Pedestrian': 43.17164310642648, 'IoU-Pole': 56.491863768447615, 'IoU-Road': 96.115775737676, 'IoU-SideWalk': 72.94168218589986, 'IoU-Vegetation': 76.28262300608867, 'IoU-Vehicles': 74.19541557207509, 'IoU-Wall': 68.01260785832073, 'IoU-TrafficSign': 35.72212774201881, 'IoU-Sky': 88.90188471520139, 'IoU-TrafficLight': 62.206908011443, 'IoU-Terrain': 64.12682739899219, 'mACC': 78.47222990434581, 'pACC': 91.5064926465698, 'ACC-Unlabeled': nan, 'ACC-Building': 96.0016971116999, 'ACC-Fence': 60.557200421598466, 'ACC-Pedestrian': 66.83585062693572, 'ACC-Pole': 67.05095148175758, 'ACC-Road': 97.13213573777765, 'ACC-SideWalk': 86.87114612207483, 'ACC-Vegetation': 82.53855126289301, 'ACC-Vehicles': 87.99098482570199, 'ACC-Wall': 88.48595376607689, 'ACC-TrafficSign': 50.039201495687834, 'ACC-Sky': 89.77512779523104, 'ACC-TrafficLight': 71.2158292245284, 'ACC-Terrain': 75.64435888453198})\n",
    "dict_list.append({'mIoU': 69.40785282831281, 'fwIoU': 88.00587168928915, 'IoU-Unlabeled': nan, 'IoU-Building': 87.17310330358421, 'IoU-Fence': 47.23404458372043, 'IoU-Pedestrian': 73.99244095496495, 'IoU-Pole': 49.788741808411096, 'IoU-Road': 95.95110372655633, 'IoU-SideWalk': 76.11417973889824, 'IoU-Vegetation': 88.28562955233058, 'IoU-Vehicles': 89.68551166443508, 'IoU-Wall': 41.73118385909267, 'IoU-TrafficSign': 62.46703792416699, 'IoU-Sky': 79.60456062178739, 'IoU-TrafficLight': 52.124264839009236, 'IoU-Terrain': 58.1502841911094, 'mACC': 78.35239587769884, 'pACC': 93.35156319899916, 'ACC-Unlabeled': nan, 'ACC-Building': 95.72750227370659, 'ACC-Fence': 56.71794639009965, 'ACC-Pedestrian': 88.96630228351682, 'ACC-Pole': 62.44169756649654, 'ACC-Road': 97.77802803528965, 'ACC-SideWalk': 85.95527869664838, 'ACC-Vegetation': 93.51444903261417, 'ACC-Vehicles': 94.63057396481916, 'ACC-Wall': 53.81931429569601, 'ACC-TrafficSign': 69.79352138094804, 'ACC-Sky': 82.10186460947703, 'ACC-TrafficLight': 61.08650381073303, 'ACC-Terrain': 76.04816407003968})\n",
    "dict_list.append({'mIoU': 69.94988926585451, 'fwIoU': 88.3528772826297, 'IoU-Unlabeled': nan, 'IoU-Building': 87.54714641795549, 'IoU-Fence': 48.98575204198094, 'IoU-Pedestrian': 74.91156874165574, 'IoU-Pole': 50.85794693853336, 'IoU-Road': 96.14101867569687, 'IoU-SideWalk': 76.68150746967007, 'IoU-Vegetation': 89.11659032650007, 'IoU-Vehicles': 90.22125269802883, 'IoU-Wall': 42.76387550711841, 'IoU-TrafficSign': 63.26065497992798, 'IoU-Sky': 77.34997766144703, 'IoU-TrafficLight': 53.20799942066435, 'IoU-Terrain': 58.30326957692955, 'mACC': 78.87604971329166, 'pACC': 93.56322006371464, 'ACC-Unlabeled': nan, 'ACC-Building': 95.5444667911429, 'ACC-Fence': 58.710940848079694, 'ACC-Pedestrian': 89.26322454936093, 'ACC-Pole': 64.29521568868923, 'ACC-Road': 97.94415789395558, 'ACC-SideWalk': 86.06050138037612, 'ACC-Vegetation': 94.66034895617355, 'ACC-Vehicles': 94.9958683003794, 'ACC-Wall': 53.68563829982946, 'ACC-TrafficSign': 71.09123107132962, 'ACC-Sky': 79.6138507202977, 'ACC-TrafficLight': 63.131797572961524, 'ACC-Terrain': 76.39140420021594})\n",
    "dict_list.append({'mIoU': 70.03259002202597, 'fwIoU': 88.43165412919092, 'IoU-Unlabeled': nan, 'IoU-Building': 87.81088707392544, 'IoU-Fence': 47.244432468055315, 'IoU-Pedestrian': 74.42434747384318, 'IoU-Pole': 50.6569952397515, 'IoU-Road': 96.03158688881226, 'IoU-SideWalk': 76.49280021045539, 'IoU-Vegetation': 89.03211404816635, 'IoU-Vehicles': 90.02557308792454, 'IoU-Wall': 43.33597189378423, 'IoU-TrafficSign': 63.35937916557578, 'IoU-Sky': 80.03198569197768, 'IoU-TrafficLight': 52.80316171605358, 'IoU-Terrain': 59.17443532801235, 'mACC': 78.97656502228097, 'pACC': 93.60358150265256, 'ACC-Unlabeled': nan, 'ACC-Building': 95.74000881118772, 'ACC-Fence': 57.55568940870454, 'ACC-Pedestrian': 89.41347536403963, 'ACC-Pole': 63.74869919404116, 'ACC-Road': 97.8787971486544, 'ACC-SideWalk': 86.03542724967848, 'ACC-Vegetation': 94.1442218773198, 'ACC-Vehicles': 94.8864121827731, 'ACC-Wall': 55.11064516950977, 'ACC-TrafficSign': 71.0650138472203, 'ACC-Sky': 82.52573463634813, 'ACC-TrafficLight': 62.00631024604988, 'ACC-Terrain': 76.58491015412554})\n",
    "dict_list.append({'mIoU': 68.25160038324293, 'fwIoU': 87.24167427893175, 'IoU-Unlabeled': nan, 'IoU-Building': 86.18937646947418, 'IoU-Fence': 45.43506831235215, 'IoU-Pedestrian': 72.67768327524008, 'IoU-Pole': 47.84843704112185, 'IoU-Road': 95.68156133584013, 'IoU-SideWalk': 75.19748280475864, 'IoU-Vegetation': 86.7073499565376, 'IoU-Vehicles': 88.80811945201194, 'IoU-Wall': 39.254402119028015, 'IoU-TrafficSign': 60.77645126621515, 'IoU-Sky': 81.41055457837959, 'IoU-TrafficLight': 50.30840313479041, 'IoU-Terrain': 56.97591523640835, 'mACC': 77.20781061355986, 'pACC': 92.88945815048501, 'ACC-Unlabeled': nan, 'ACC-Building': 95.89555547820392, 'ACC-Fence': 53.89420233447917, 'ACC-Pedestrian': 88.22758446737758, 'ACC-Pole': 59.3312533431115, 'ACC-Road': 97.51177866530128, 'ACC-SideWalk': 85.77283326978565, 'ACC-Vegetation': 91.74302851271634, 'ACC-Vehicles': 94.00517598653158, 'ACC-Wall': 52.65283955632343, 'ACC-TrafficSign': 67.25558440659734, 'ACC-Sky': 84.15200950577946, 'ACC-TrafficLight': 58.09984346448104, 'ACC-Terrain': 75.15984898558999})\n",
    "dict_list.append({})"
   ]
  },
  {
   "cell_type": "code",
   "execution_count": 3,
   "id": "ea1e198c-5930-48ea-937b-dc5b00877152",
   "metadata": {},
   "outputs": [
    {
     "name": "stdout",
     "output_type": "stream",
     "text": [
      "['mIoU', 'fwIoU', 'IoU-Unlabeled', 'IoU-Building', 'IoU-Fence', 'IoU-Pedestrian', 'IoU-Pole', 'IoU-Road', 'IoU-SideWalk', 'IoU-Vegetation', 'IoU-Vehicles', 'IoU-Wall', 'IoU-TrafficSign', 'IoU-Sky', 'IoU-TrafficLight', 'IoU-Terrain', 'mACC', 'pACC', 'ACC-Unlabeled', 'ACC-Building', 'ACC-Fence', 'ACC-Pedestrian', 'ACC-Pole', 'ACC-Road', 'ACC-SideWalk', 'ACC-Vegetation', 'ACC-Vehicles', 'ACC-Wall', 'ACC-TrafficSign', 'ACC-Sky', 'ACC-TrafficLight', 'ACC-Terrain']\n"
     ]
    }
   ],
   "source": [
    "keys = [key for key in dict_list[0].keys()]\n",
    "print(keys)"
   ]
  },
  {
   "cell_type": "code",
   "execution_count": 4,
   "id": "cc203c0e-be77-42b3-bbce-653cdac57e8c",
   "metadata": {},
   "outputs": [],
   "source": [
    "with open('a.csv', 'w') as csv_file: \n",
    "    csv_writer = csv.writer(csv_file)\n",
    "    csv_writer.writerow(keys)\n",
    "    for dict in dict_list:\n",
    "        row = [value for value in dict.values()]\n",
    "        csv_writer.writerow(row)"
   ]
  },
  {
   "cell_type": "code",
   "execution_count": null,
   "id": "a2e019d2-b5c5-446b-ba42-e8cfd9c64d7a",
   "metadata": {},
   "outputs": [],
   "source": []
  }
 ],
 "metadata": {
  "kernelspec": {
   "display_name": "torch",
   "language": "python",
   "name": "torch"
  },
  "language_info": {
   "codemirror_mode": {
    "name": "ipython",
    "version": 3
   },
   "file_extension": ".py",
   "mimetype": "text/x-python",
   "name": "python",
   "nbconvert_exporter": "python",
   "pygments_lexer": "ipython3",
   "version": "3.9.10"
  }
 },
 "nbformat": 4,
 "nbformat_minor": 5
}
