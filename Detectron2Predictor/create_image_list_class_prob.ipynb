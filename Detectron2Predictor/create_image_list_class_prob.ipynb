{
 "cells": [
  {
   "cell_type": "markdown",
   "id": "vOI__nJ2oiYZ",
   "metadata": {
    "id": "vOI__nJ2oiYZ"
   },
   "source": [
    "# Libraries"
   ]
  },
  {
   "cell_type": "code",
   "execution_count": 1,
   "id": "566a15a0",
   "metadata": {
    "id": "566a15a0"
   },
   "outputs": [],
   "source": [
    "main_dir = './'\n",
    "data_dir = '/home/tunx404/Miscellaneous/data/' # Local Jupyter\n",
    "\n",
    "from utilities import create_file_list, imshow_jupyter\n",
    "# import carla_converter\n",
    "\n",
    "import os\n",
    "\n",
    "import cv2\n",
    "import matplotlib.pyplot as plt\n",
    "from PIL import Image\n",
    "\n",
    "import torch\n",
    "import numpy as np\n",
    "\n",
    "import numpy as np\n",
    "import os, json, cv2, random\n",
    "\n",
    "from tqdm import tqdm\n",
    "\n",
    "import csv"
   ]
  },
  {
   "cell_type": "markdown",
   "id": "bJEp7LRapA9e",
   "metadata": {
    "id": "bJEp7LRapA9e"
   },
   "source": [
    "## Carla"
   ]
  },
  {
   "cell_type": "code",
   "execution_count": 5,
   "id": "16e51555",
   "metadata": {
    "colab": {
     "base_uri": "https://localhost:8080/"
    },
    "executionInfo": {
     "elapsed": 465,
     "status": "ok",
     "timestamp": 1650052929021,
     "user": {
      "displayName": "Tũn Tũn",
      "userId": "10147808466179585969"
     },
     "user_tz": 240
    },
    "id": "16e51555",
    "outputId": "1ebb63e8-2a4c-4044-de06-030918e8b7fd"
   },
   "outputs": [
    {
     "name": "stdout",
     "output_type": "stream",
     "text": [
      "Number of images: 4163\n"
     ]
    },
    {
     "name": "stderr",
     "output_type": "stream",
     "text": [
      "4163it [00:00, 218449.51it/s]\n"
     ]
    }
   ],
   "source": [
    "data_carla_dir = data_dir + 'Carla/packaging/'\n",
    "\n",
    "# Dir structure:\n",
    "# <data_carla_dir>\n",
    "#     packages2\n",
    "#     packages3\n",
    "#     ...\n",
    "\n",
    "def get_carla_file_list(data_dir, packages=[], levels=[]):\n",
    "    file_list = []\n",
    "    \n",
    "    for package in packages:\n",
    "        temp_file_name_list, temp_file_path_list = create_file_list(data_dir, package)\n",
    "        \n",
    "        for i in range(len(temp_file_name_list)):\n",
    "            file_name_split = temp_file_name_list[i].split('_')\n",
    "            if len(file_name_split) == 3: # [id, type, level.png]\n",
    "                file_id = file_name_split[0]\n",
    "                level = file_name_split[2].replace('.png', '')\n",
    "                if level in levels:\n",
    "                    file_list.append((file_id, level, package))\n",
    "                    \n",
    "    print(f'Number of images: {len(file_list)}')\n",
    "    \n",
    "    return file_list\n",
    "\n",
    "# data_carla_train_file_list = get_carla_file_list(data_carla_dir, packages=['package2', 'package3', 'package4', 'package5', 'package6', 'package7', 'package9'], levels=['H', 'M', 'S'])\n",
    "# data_carla_val_file_list = get_carla_file_list(data_carla_dir, packages=['package8'], levels=['H', 'M', 'S'])\n",
    "\n",
    "data_carla_train_file_list = get_carla_file_list(data_carla_dir, packages=['package2', 'package3', 'package4', 'package5', 'package6', 'package7', 'package8', 'package9'], levels=['H', 'M', 'S'])\n",
    "\n",
    "# # Toy example\n",
    "# data_carla_train_file_list = data_carla_train_file_list[:10]\n",
    "# data_carla_val_file_list = data_carla_val_file_list[:10]\n",
    "\n",
    "def get_carla_list_files(file_list, dataset_type='train'):\n",
    "    image_list_file = open('image_list/' + dataset_type + '.txt', mode='w')\n",
    "    image_csv_writer = csv.writer(image_list_file, delimiter=',')\n",
    "    \n",
    "    label_list_file = open('label_list/' + dataset_type + '.txt', mode='w')\n",
    "    label_csv_writer = csv.writer(label_list_file, delimiter=',')\n",
    "    \n",
    "    for index, file in tqdm(enumerate(file_list)):\n",
    "        file_id, level, package = file\n",
    "        \n",
    "        image_path = os.path.join('packaging/', package, file_id + '_clear.png')\n",
    "        image_semantic_path = os.path.join('packaging/', package, file_id + '_semantic_train.png')\n",
    "        \n",
    "        image_csv_writer.writerow([image_path])\n",
    "        label_csv_writer.writerow([image_semantic_path])\n",
    "\n",
    "get_carla_list_files(data_carla_train_file_list, dataset_type='train')\n",
    "# get_carla_list_files(data_carla_val_file_list, dataset_type='val')\n",
    "\n",
    "import pickle\n",
    "def get_carla_class_pixel_count(file_list, data_dir):\n",
    "    train_classes = ['Unlabeled', 'Building', 'Fence', 'Pedestrian', 'Pole', 'Road', 'SideWalk', 'Vegetation', 'Vehicles', 'Wall', 'TrafficSign', 'Sky', 'TrafficLight', 'Terrain']\n",
    "    num_classes = len(train_classes)\n",
    "    print(f'Number of images: {len(file_list)}')\n",
    "    print(f'Number of classes: {num_classes}')\n",
    "    \n",
    "    class_pixel_count_dict = {}\n",
    "    for i in range(num_classes):\n",
    "        class_pixel_count_dict[train_classes[i]] = 0\n",
    "        \n",
    "    class_pixel_count_per_sample_list = []\n",
    "    \n",
    "    for index, file in tqdm(enumerate(file_list)):\n",
    "        file_id, level, package = file\n",
    "        \n",
    "        image_path = os.path.join('packaging/', package, file_id + '_clear.png')\n",
    "        image_semantic_path = os.path.join(data_dir, package, file_id + '_semantic_train.png')\n",
    "        image_semantic = cv2.imread(image_semantic_path)[:, :, 2] # HxWxC, BGR\n",
    "        \n",
    "        # print(image_semantic)\n",
    "        # imshow_jupyter(image_semantic)\n",
    "        \n",
    "        class_pixel_count_dict_temp = {}\n",
    "        \n",
    "        for i in range(num_classes):\n",
    "            class_pixel_count_dict[train_classes[i]] += np.sum(image_semantic == i)\n",
    "            class_pixel_count_dict_temp[train_classes[i]] = np.sum(image_semantic == i)\n",
    "            \n",
    "        class_pixel_count_per_sample_list.append(class_pixel_count_dict_temp)\n",
    "    \n",
    "    with open('class_pixel_count_dict.pickle', 'wb') as file:\n",
    "        pickle.dump(class_pixel_count_dict, file)\n",
    "    \n",
    "    with open('class_pixel_count_per_sample_list.pickle', 'wb') as file:\n",
    "        pickle.dump(class_pixel_count_per_sample_list, file)\n",
    "        \n",
    "    return class_pixel_count_dict, class_pixel_count_per_sample_list\n",
    "\n",
    "# train_classes = ['Unlabeled', 'Building', 'Fence', 'Pedestrian', 'Pole', 'Road', 'SideWalk', 'Vegetation', 'Vehicles', 'Wall', 'TrafficSign', 'Sky', 'TrafficLight', 'Terrain']\n",
    "# num_classes = len(train_classes)\n",
    "\n",
    "# class_pixel_count_carla_train_dict, class_pixel_count_per_sample_carla_train_list = get_carla_class_pixel_count(data_carla_train_file_list, data_carla_dir)\n",
    "# print(class_pixel_count_carla_train_dict)\n",
    "\n",
    "# temp_dict = {}\n",
    "# for i in range(num_classes):\n",
    "#     temp_dict[train_classes[i]] = 0\n",
    "# for index, item in tqdm(enumerate(class_pixel_count_per_sample_carla_train_list)):\n",
    "#     for i in range(num_classes):\n",
    "#         # print(temp_dict[train_classes[i]])\n",
    "#         temp_dict[train_classes[i]] += item[train_classes[i]]\n",
    "# print(temp_dict)\n",
    "# pixel_sum = sum(temp_dict.values())\n",
    "# print(pixel_sum) # 2755584000 # 3836620800"
   ]
  },
  {
   "cell_type": "code",
   "execution_count": 3,
   "id": "98f56dcb-9b90-461b-9a50-7a57e5a0987c",
   "metadata": {},
   "outputs": [
    {
     "name": "stdout",
     "output_type": "stream",
     "text": [
      "{'Unlabeled': 169011929, 'Building': 755232533, 'Fence': 16960900, 'Pedestrian': 10768915, 'Pole': 55090055, 'Road': 1273645188, 'SideWalk': 169610790, 'Vegetation': 376039585, 'Vehicles': 125147861, 'Wall': 83941290, 'TrafficSign': 5858677, 'Sky': 688590591, 'TrafficLight': 6470356, 'Terrain': 100252130}\n",
      "3836620800\n",
      "{'Unlabeled': 0.04405228919157192, 'Building': 0.1968483653636033, 'Fence': 0.004420791338044146, 'Pedestrian': 0.002806874997914832, 'Pole': 0.014359004413467184, 'Road': 0.33197056847525824, 'SideWalk': 0.04420837993684442, 'Vegetation': 0.09801322690008875, 'Vehicles': 0.03261929378061027, 'Wall': 0.021878964426195052, 'TrafficSign': 0.0015270409314363305, 'Sky': 0.1794784074047662, 'TrafficLight': 0.001686472637587744, 'Terrain': 0.02613032020261163}\n",
      "1.0\n",
      "{'Unlabeled': 0.04405228919157192, 'Building': 0.1968483653636033, 'Fence': 0.004420791338044146, 'Pedestrian': 0.002806874997914832, 'Pole': 0.014359004413467184, 'Road': 0.33197056847525824, 'SideWalk': 0.04420837993684442, 'Vegetation': 0.09801322690008875, 'Vehicles': 0.03261929378061027, 'Wall': 0.021878964426195052, 'TrafficSign': 0.0015270409314363305, 'Sky': 0.1794784074047662, 'TrafficLight': 0.001686472637587744, 'Terrain': 0.02613032020261163}\n"
     ]
    }
   ],
   "source": [
    "with open('class_pixel_count_dict.pickle', 'rb') as file:\n",
    "    class_pixel_count_carla_train_dict = pickle.load(file)\n",
    "print(class_pixel_count_carla_train_dict)\n",
    "pixel_sum = sum(class_pixel_count_carla_train_dict.values())\n",
    "\n",
    "print(pixel_sum) # 2755584000 # 3836620800\n",
    "assert pixel_sum == len(data_carla_train_file_list)*1280*720\n",
    "\n",
    "# non_ignored_sum = sum(class_pixel_count_carla_train_dict.values()) - class_pixel_count_carla_train_dict[train_classes[0]]\n",
    "# print(non_ignored_sum) # 2642685163\n",
    "\n",
    "class_freq_carla_train_dict = {}\n",
    "\n",
    "# # Ignore class 0\n",
    "# class_freq_carla_train_dict[0] = 0.0\n",
    "# for i in range(1, num_classes):\n",
    "#     class_freq_carla_train_dict[i] = class_pixel_count_carla_train_dict[i]/non_ignored_sum\n",
    "    \n",
    "# Include all\n",
    "for i in range(num_classes):\n",
    "    class_freq_carla_train_dict[train_classes[i]] = class_pixel_count_carla_train_dict[train_classes[i]]/pixel_sum\n",
    "    \n",
    "print(class_freq_carla_train_dict)\n",
    "print(sum(class_freq_carla_train_dict.values())) # 1.0\n",
    "with open('class_freq_dict.pickle', 'wb') as file:\n",
    "    pickle.dump(class_freq_carla_train_dict, file)\n",
    "    \n",
    "with open('class_freq_dict.pickle', 'rb') as file:\n",
    "    x = pickle.load(file)\n",
    "    print(x)"
   ]
  },
  {
   "cell_type": "markdown",
   "id": "CEjETjkApDCI",
   "metadata": {
    "id": "CEjETjkApDCI"
   },
   "source": [
    "## Cityscapes"
   ]
  },
  {
   "cell_type": "code",
   "execution_count": 7,
   "id": "0c8d50c8-2f3a-4e2e-9d35-1a8e7d47d7b8",
   "metadata": {
    "colab": {
     "base_uri": "https://localhost:8080/"
    },
    "executionInfo": {
     "elapsed": 280,
     "status": "ok",
     "timestamp": 1650052929299,
     "user": {
      "displayName": "Tũn Tũn",
      "userId": "10147808466179585969"
     },
     "user_tz": 240
    },
    "id": "0c8d50c8-2f3a-4e2e-9d35-1a8e7d47d7b8",
    "outputId": "7ca806c2-dee9-4181-fa80-12fc9562bbc5"
   },
   "outputs": [
    {
     "name": "stdout",
     "output_type": "stream",
     "text": [
      "Number of cities: 18\n",
      "Number of images: 2975\n"
     ]
    },
    {
     "name": "stderr",
     "output_type": "stream",
     "text": [
      "2975it [00:00, 167700.01it/s]\n"
     ]
    }
   ],
   "source": [
    "data_dir_cityscapes = data_dir + 'Cityscapes/leftImg8bit/train/'\n",
    "data_dir_rain_addition = data_dir + 'RainAddition/train/'\n",
    "# anno_dir_cityscapes = data_dir + 'Cityscapes/gtFine/train/'\n",
    "anno_dir_cityscapes = data_dir + 'Cityscapes/mapped_labels/train/'\n",
    "\n",
    "city_name_list, _ = create_file_list(data_dir_cityscapes)\n",
    "print(f'Number of cities: {len(city_name_list)}')\n",
    "\n",
    "def get_cityscapes_file_list(data_dir, cities=[], levels=[]):\n",
    "    file_list = []\n",
    "    \n",
    "    for city in cities:\n",
    "        temp_file_name_list, _ = create_file_list(data_dir, city)\n",
    "        \n",
    "        for file_name in temp_file_name_list:\n",
    "            file_list.append((file_name, city))\n",
    "                    \n",
    "    print(f'Number of images: {len(file_list)}')\n",
    "    \n",
    "    return file_list\n",
    "\n",
    "# data_cityscapes_train_file_list = get_cityscapes_file_list(data_dir_cityscapes, cities=city_name_list[:13], levels=['H', 'M', 'S'])\n",
    "# data_cityscapes_val_file_list   = get_cityscapes_file_list(data_dir_cityscapes, cities=city_name_list[13:], levels=['H', 'M', 'S'])\n",
    "\n",
    "\n",
    "data_cityscapes_train_file_list = get_cityscapes_file_list(data_dir_cityscapes, cities=city_name_list, levels=['H', 'M', 'S'])\n",
    "\n",
    "# # Toy example\n",
    "# data_cityscapes_train_file_list = data_cityscapes_train_file_list[:10]\n",
    "# data_cityscapes_val_file_list = data_cityscapes_val_file_list[:10]\n",
    "\n",
    "def get_cityscapes_list_files(file_list, dataset_type='train'):\n",
    "\n",
    "    image_list_file = open('image_list/' + dataset_type + '.txt', mode='w')\n",
    "    image_csv_writer = csv.writer(image_list_file, delimiter=',')\n",
    "    \n",
    "    label_list_file = open('label_list/' + dataset_type + '.txt', mode='w')\n",
    "    label_csv_writer = csv.writer(label_list_file, delimiter=',')\n",
    "    \n",
    "    for index, file in tqdm(enumerate(file_list)):\n",
    "        \n",
    "        file_name, city = file\n",
    "\n",
    "        image_path = os.path.join(city, file_name)\n",
    "        \n",
    "        file_name_split = file_name.split('_')\n",
    "        image_id = file_name_split[0] + '_' + file_name_split[1] + '_' + file_name_split[2]\n",
    "        anno_name = image_id + '_train.png' # Mapped\n",
    "        image_semantic_path = os.path.join(city, anno_name)\n",
    "        \n",
    "        image_csv_writer.writerow([image_path])\n",
    "        label_csv_writer.writerow([image_semantic_path])\n",
    "\n",
    "get_cityscapes_list_files(data_cityscapes_train_file_list, dataset_type='train')\n",
    "# get_cityscapes_list_files(data_cityscapes_val_file_list, dataset_type='val')"
   ]
  },
  {
   "cell_type": "code",
   "execution_count": null,
   "id": "7be6dd23-d843-443b-9235-3ef9df164c84",
   "metadata": {},
   "outputs": [],
   "source": []
  }
 ],
 "metadata": {
  "accelerator": "GPU",
  "colab": {
   "collapsed_sections": [
    "KVqmnxQOn4Nm"
   ],
   "name": "detectron2_sem_seg_trainer.ipynb",
   "provenance": []
  },
  "kernelspec": {
   "display_name": "torch",
   "language": "python",
   "name": "torch"
  },
  "language_info": {
   "codemirror_mode": {
    "name": "ipython",
    "version": 3
   },
   "file_extension": ".py",
   "mimetype": "text/x-python",
   "name": "python",
   "nbconvert_exporter": "python",
   "pygments_lexer": "ipython3",
   "version": "3.9.10"
  }
 },
 "nbformat": 4,
 "nbformat_minor": 5
}
