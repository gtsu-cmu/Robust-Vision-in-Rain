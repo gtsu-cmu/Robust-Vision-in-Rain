{
 "cells": [
  {
   "cell_type": "markdown",
   "metadata": {
    "id": "-4OJq6c4oPqR",
    "jp-MarkdownHeadingCollapsed": true,
    "tags": []
   },
   "source": [
    "# Google Colab initialization"
   ]
  },
  {
   "cell_type": "code",
   "execution_count": null,
   "metadata": {
    "id": "7150dd93"
   },
   "outputs": [],
   "source": [
    "# !pip install pyyaml==5.1\n",
    "\n",
    "# import torch\n",
    "# TORCH_VERSION = \".\".join(torch.__version__.split(\".\")[:2])\n",
    "# CUDA_VERSION = torch.__version__.split(\"+\")[-1]\n",
    "# print(\"torch: \", TORCH_VERSION, \"; cuda: \", CUDA_VERSION)\n",
    "# # Install detectron2 that matches the above pytorch version\n",
    "# # See https://detectron2.readthedocs.io/tutorials/install.html for instructions\n",
    "# !pip install detectron2 -f https://dl.fbaipublicfiles.com/detectron2/wheels/$CUDA_VERSION/torch$TORCH_VERSION/index.html > /dev/null \n",
    "# # If there is not yet a detectron2 release that matches the given torch + CUDA version, you need to install a different pytorch.\n",
    "\n",
    "# exit(0)  # After installation, you may need to \"restart runtime\" in Colab. This line can also restart runtime"
   ]
  },
  {
   "cell_type": "code",
   "execution_count": null,
   "metadata": {
    "id": "868f1a31-1da7-479c-9bd0-35eabef2ad1d"
   },
   "outputs": [],
   "source": [
    "GOOGLE_COLAB = False\n",
    "# GOOGLE_COLAB = True"
   ]
  },
  {
   "cell_type": "code",
   "execution_count": null,
   "metadata": {
    "colab": {
     "base_uri": "https://localhost:8080/"
    },
    "executionInfo": {
     "elapsed": 1301,
     "status": "ok",
     "timestamp": 1650750032069,
     "user": {
      "displayName": "Tũn Tũn",
      "userId": "10147808466179585969"
     },
     "user_tz": 240
    },
    "id": "73d376c0",
    "outputId": "b5338b24-a47e-44f6-8740-afaef44df672"
   },
   "outputs": [],
   "source": [
    "if GOOGLE_COLAB == True:\n",
    "    from google.colab import drive\n",
    "    drive.mount('/content/drive/')"
   ]
  },
  {
   "cell_type": "code",
   "execution_count": null,
   "metadata": {
    "id": "T1wp5irN5qw9"
   },
   "outputs": [],
   "source": [
    "# if GOOGLE_COLAB == True:\n",
    "#     !ls '/content/drive/MyDrive/18744/data/Cityscapes/'\n",
    "\n",
    "#     !mkdir '/content/data/'\n",
    "#     !mkdir '/content/data/Cityscapes/'\n",
    "\n",
    "#     !unzip -n '/content/drive/MyDrive/18744/data/Cityscapes/gtFine_trainvaltest.zip' -d '/content/data/Cityscapes/' > /dev/null\n",
    "#     !unzip -n '/content/drive/MyDrive/18744/data/Cityscapes/leftImg8bit_trainvaltest.zip' -d '/content/data/Cityscapes/' > /dev/null\n",
    "#     !tar -xf '/content/drive/MyDrive/18744/data/Cityscapes/mapped_labels.tar' --skip-old-files --directory '/content/data/Cityscapes/'\n",
    "\n",
    "#     ##################################################\n",
    "\n",
    "#     !ls '/content/drive/MyDrive/18744/data/Carla/packaging/'\n",
    "\n",
    "#     !mkdir '/content/data/'\n",
    "#     !mkdir '/content/data/Carla/'\n",
    "#     !mkdir '/content/data/Carla/packaging/'\n",
    "\n",
    "#     !unzip -n '/content/drive/MyDrive/18744/data/Carla/packaging/package2.zip' -d '/content/data/Carla/packaging/' > /dev/null\n",
    "#     !unzip -n '/content/drive/MyDrive/18744/data/Carla/packaging/package3.zip' -d '/content/data/Carla/packaging/' > /dev/null\n",
    "#     !unzip -n '/content/drive/MyDrive/18744/data/Carla/packaging/package4.zip' -d '/content/data/Carla/packaging/' > /dev/null\n",
    "#     !unzip -n '/content/drive/MyDrive/18744/data/Carla/packaging/package5.zip' -d '/content/data/Carla/packaging/' > /dev/null\n",
    "#     !unzip -n '/content/drive/MyDrive/18744/data/Carla/packaging/package6.zip' -d '/content/data/Carla/packaging/' > /dev/null\n",
    "#     !unzip -n '/content/drive/MyDrive/18744/data/Carla/packaging/package7.zip' -d '/content/data/Carla/packaging/' > /dev/null\n",
    "#     !unzip -n '/content/drive/MyDrive/18744/data/Carla/packaging/package8.zip' -d '/content/data/Carla/packaging/' > /dev/null\n",
    "#     !unzip -n '/content/drive/MyDrive/18744/data/Carla/packaging/package9.zip' -d '/content/data/Carla/packaging/' > /dev/null\n",
    "#     !tar -xf '/content/drive/MyDrive/18744/data/Carla/packaging/semantic_train.tar' --skip-old-files --directory '/content/data/Carla/packaging/'\n",
    "\n",
    "#     ##################################################\n",
    "\n",
    "#     !ls '/content/drive/MyDrive/18744/data/CarlaNight/night_packaging/'\n",
    "\n",
    "#     !mkdir '/content/data/'\n",
    "#     !mkdir '/content/data/CarlaNight/'\n",
    "#     !mkdir '/content/data/CarlaNight/night_packaging/'\n",
    "    \n",
    "#     !tar -xf '/content/drive/MyDrive/18744/data/CarlaNight/night_packaging/package10.tar' --skip-old-files --directory '/content/data/CarlaNight/night_packaging/'\n",
    "#     !tar -xf '/content/drive/MyDrive/18744/data/CarlaNight/night_packaging/package11.tar' --skip-old-files --directory '/content/data/CarlaNight/night_packaging/'\n",
    "\n",
    "#     ##################################################\n",
    "\n",
    "#     !ls '/content/drive/MyDrive/18744/data/RainAddition/train/'\n",
    "\n",
    "#     !mkdir '/content/data/'\n",
    "#     !mkdir '/content/data/RainAddition/'\n",
    "#     !mkdir '/content/data/RainAddition/train/'\n",
    "\n",
    "#     !tar -xf '/content/drive/MyDrive/18744/data/RainAddition/train/1.tar' --skip-old-files --directory '/content/data/RainAddition/train/'\n",
    "#     !tar -xf '/content/drive/MyDrive/18744/data/RainAddition/train/2.tar' --skip-old-files --directory '/content/data/RainAddition/train/'\n",
    "#     !tar -xf '/content/drive/MyDrive/18744/data/RainAddition/train/3.tar' --skip-old-files --directory '/content/data/RainAddition/train/'"
   ]
  },
  {
   "cell_type": "code",
   "execution_count": null,
   "metadata": {
    "colab": {
     "base_uri": "https://localhost:8080/"
    },
    "executionInfo": {
     "elapsed": 20,
     "status": "ok",
     "timestamp": 1650750032070,
     "user": {
      "displayName": "Tũn Tũn",
      "userId": "10147808466179585969"
     },
     "user_tz": 240
    },
    "id": "2854f46b",
    "outputId": "88560d5b-3976-4d4a-96a0-baf4c1024b23"
   },
   "outputs": [],
   "source": [
    "if GOOGLE_COLAB == True:\n",
    "    !ls '/content/drive/MyDrive/18744/data/'\n",
    "    %cd '/content/drive/MyDrive/18744/Robust-Vision-in-Rain/Detectron2Predictor/'\n",
    "    !ls"
   ]
  },
  {
   "cell_type": "markdown",
   "metadata": {
    "id": "vOI__nJ2oiYZ"
   },
   "source": [
    "# Configs"
   ]
  },
  {
   "cell_type": "code",
   "execution_count": 3,
   "metadata": {
    "id": "78860d72-d62b-442a-aac9-b7499a37d343"
   },
   "outputs": [],
   "source": [
    "GOOGLE_COLAB = False\n",
    "\n",
    "main_dir = './'\n",
    "data_dir = '/home/gregory/Documents/RainPerception/' # Local Jupyter\n",
    "\n",
    "if GOOGLE_COLAB == True:\n",
    "    # data_dir = '/content/drive/MyDrive/18744/data/'\n",
    "    data_dir = '/content/data/'\n",
    "    \n",
    "DEBUG = False\n",
    "DEBUG = True"
   ]
  },
  {
   "cell_type": "markdown",
   "metadata": {
    "id": "7dfd639d-5b7a-4280-9689-32aa4d40a9cd"
   },
   "source": [
    "# Libraries"
   ]
  },
  {
   "cell_type": "code",
   "execution_count": 4,
   "metadata": {
    "colab": {
     "base_uri": "https://localhost:8080/"
    },
    "executionInfo": {
     "elapsed": 4214,
     "status": "ok",
     "timestamp": 1650750036279,
     "user": {
      "displayName": "Tũn Tũn",
      "userId": "10147808466179585969"
     },
     "user_tz": 240
    },
    "id": "11d2a715-8cb4-4df1-9ef7-00b18f834f32",
    "outputId": "8d20260c-67f9-4bb2-d49d-fbbb01996099"
   },
   "outputs": [
    {
     "name": "stdout",
     "output_type": "stream",
     "text": [
      "Number of train images: 0\n",
      "Number of val images:   0\n"
     ]
    }
   ],
   "source": [
    "##################################################\n",
    "# Local libraries\n",
    "\n",
    "from detectron2_predictor import Detectron2Predictor\n",
    "from detectron2_trainer import Detectron2Trainer\n",
    "from detectron2_dataset import Detectron2CustomDataset\n",
    "from utilities import create_file_list, imshow_jupyter\n",
    "from datasets import get_carla_file_list, get_carla_dicts, get_cityscapes_file_list, get_cityscapes_dicts\n",
    "from datasets import convert_carla, convert_cityscapes\n",
    "\n",
    "##################################################\n",
    "# Libraries\n",
    "\n",
    "import numpy as np\n",
    "import torch\n",
    "\n",
    "import matplotlib.pyplot as plt\n",
    "from PIL import Image\n",
    "\n",
    "import os, json, cv2, random\n",
    "\n",
    "##################################################\n",
    "# Detectron2\n",
    "\n",
    "import detectron2\n",
    "\n",
    "from detectron2.utils.logger import setup_logger\n",
    "setup_logger()\n",
    "\n",
    "from detectron2 import model_zoo\n",
    "from detectron2.engine import DefaultPredictor\n",
    "from detectron2.config import get_cfg\n",
    "from detectron2.utils.visualizer import Visualizer\n",
    "from detectron2.data import DatasetCatalog"
   ]
  },
  {
   "cell_type": "markdown",
   "metadata": {
    "id": "WG-v-IBXo7e7"
   },
   "source": [
    "# Image lists & dicts"
   ]
  },
  {
   "cell_type": "markdown",
   "metadata": {
    "id": "bJEp7LRapA9e",
    "jp-MarkdownHeadingCollapsed": true,
    "tags": []
   },
   "source": [
    "## Carla"
   ]
  },
  {
   "cell_type": "code",
   "execution_count": null,
   "metadata": {
    "colab": {
     "base_uri": "https://localhost:8080/"
    },
    "executionInfo": {
     "elapsed": 234,
     "status": "ok",
     "timestamp": 1650750036503,
     "user": {
      "displayName": "Tũn Tũn",
      "userId": "10147808466179585969"
     },
     "user_tz": 240
    },
    "id": "5ae5b712-4f0f-4c81-91f2-6b704a73b2d9",
    "outputId": "0228aa52-81e4-48ea-b5b4-d5ee6463449a"
   },
   "outputs": [],
   "source": [
    "# data_carla_dir = data_dir + 'Carla/packaging/'\n",
    "\n",
    "# # Dir structure:\n",
    "# # <data_carla_dir>\n",
    "# #     packages2\n",
    "# #     packages3\n",
    "# #     ...\n",
    "\n",
    "# data_carla_train_file_list = get_carla_file_list(data_carla_dir, packages=['package2', 'package3', 'package4', 'package5', 'package6', 'package7', 'package9'], levels=['H', 'M', 'S'])\n",
    "# data_carla_val_file_list = get_carla_file_list(data_carla_dir, packages=['package8'], levels=['H', 'M', 'S'])\n",
    "# # data_carla_val_file_list = get_carla_file_list(data_carla_dir, packages=['package9'], levels=['H'])\n",
    "\n",
    "# # # Toy example\n",
    "# # data_carla_train_file_list = data_carla_train_file_list[:10]\n",
    "# # data_carla_val_file_list = data_carla_val_file_list[:10]"
   ]
  },
  {
   "cell_type": "code",
   "execution_count": null,
   "metadata": {
    "id": "4f65243d-4520-410d-a807-002ee0bcfa52"
   },
   "outputs": [],
   "source": [
    "# data_carla_dir = '/home/tunx404/Cloud/Google Drive 1/18662/logs/carla_cityscapes_cycada/output/output/packaging/'\n",
    "# data_carla_dir = '/home/tunx404/Cloud/Google Drive 1/18662/logs/carla_cityscapes_cycada_rcs/output/output/packaging/'\n",
    "# data_carla_dir = '/home/tunx404/Cloud/Google Drive 1/18662/logs/carla_cityscapes_cycle_gan/output/output/packaging/'\n",
    "# data_carla_dir = '/home/tunx404/Cloud/Google Drive 1/18662/logs/carla_cityscapes_cycle_gan_rcs/output/output/packaging/'\n",
    "\n",
    "# data_carla_train_file_list = get_carla_file_list(data_carla_dir, packages=['package2', 'package3', 'package4', 'package5', 'package6', 'package7', 'package8', 'package9'], levels=[])\n",
    "# data_carla_val_file_list = get_carla_file_list(data_carla_dir, packages=['package2', 'package3', 'package4', 'package5', 'package6', 'package7', 'package8', 'package9'], levels=[])"
   ]
  },
  {
   "cell_type": "code",
   "execution_count": null,
   "metadata": {
    "colab": {
     "base_uri": "https://localhost:8080/"
    },
    "executionInfo": {
     "elapsed": 1221,
     "status": "ok",
     "timestamp": 1650750037718,
     "user": {
      "displayName": "Tũn Tũn",
      "userId": "10147808466179585969"
     },
     "user_tz": 240
    },
    "id": "e7ff3fc8-60ad-4f66-8081-26b25a515d8c",
    "outputId": "a51d5273-c290-4071-8351-a2a4192f6944"
   },
   "outputs": [],
   "source": [
    "# print('**************************************************')\n",
    "# print('Carla clear')\n",
    "\n",
    "# def get_carla_clear_train_dicts():\n",
    "#     return get_carla_dicts(data_carla_train_file_list, data_carla_dir, clear=True, rain=False)\n",
    "\n",
    "# def get_carla_clear_val_dicts():\n",
    "#     return get_carla_dicts(data_carla_val_file_list, data_carla_dir, clear=True, rain=False)\n",
    "\n",
    "# if DEBUG == True:\n",
    "#     for dict in get_carla_clear_train_dicts()[:4]:\n",
    "#         print(dict)\n",
    "    \n",
    "# print(len(get_carla_clear_train_dicts())) # 2990\n",
    "# print(len(get_carla_clear_val_dicts()))   # 1173\n",
    "\n",
    "# print('\\n**************************************************')\n",
    "# print('Carla rain')\n",
    "\n",
    "# def get_carla_rain_train_dicts():\n",
    "#     return get_carla_dicts(data_carla_train_file_list, data_carla_dir, clear=False, rain=True)\n",
    "\n",
    "# def get_carla_rain_val_dicts():\n",
    "#     return get_carla_dicts(data_carla_val_file_list, data_carla_dir, clear=False, rain=True)\n",
    "\n",
    "# if DEBUG == True:\n",
    "#     for dict in get_carla_rain_train_dicts()[:4]:\n",
    "#         print(dict)\n",
    "    \n",
    "# print(len(get_carla_rain_train_dicts())) # 2990\n",
    "# print(len(get_carla_rain_val_dicts()))   # 1173\n",
    "\n",
    "# print('\\n**************************************************')\n",
    "# print('Carla all')\n",
    "\n",
    "# def get_carla_all_train_dicts():\n",
    "#     return get_carla_dicts(data_carla_train_file_list, data_carla_dir, clear=True, rain=True)\n",
    "\n",
    "# def get_carla_all_val_dicts():\n",
    "#     return get_carla_dicts(data_carla_val_file_list, data_carla_dir, clear=True, rain=True)\n",
    "\n",
    "# if DEBUG == True:\n",
    "#     for dict in get_carla_all_train_dicts()[:4]:\n",
    "#         print(dict)\n",
    "    \n",
    "# print(len(get_carla_all_train_dicts())) # 2990*2 = 5980\n",
    "# print(len(get_carla_all_val_dicts()))   # 1173*2 = 2346"
   ]
  },
  {
   "cell_type": "markdown",
   "metadata": {
    "id": "cdea5e2a-78f6-477c-8a07-31ad4eb7f753",
    "jp-MarkdownHeadingCollapsed": true,
    "tags": []
   },
   "source": [
    "## Carla night"
   ]
  },
  {
   "cell_type": "code",
   "execution_count": null,
   "metadata": {
    "colab": {
     "base_uri": "https://localhost:8080/"
    },
    "executionInfo": {
     "elapsed": 11,
     "status": "ok",
     "timestamp": 1650750037719,
     "user": {
      "displayName": "Tũn Tũn",
      "userId": "10147808466179585969"
     },
     "user_tz": 240
    },
    "id": "200e99e5-062a-49c7-bfac-9c47e86464a2",
    "outputId": "e8fa2703-52f4-4a8c-f964-ec040a49e2c6"
   },
   "outputs": [],
   "source": [
    "# data_carla_night_dir = data_dir + 'CarlaNight/night_packaging/'\n",
    "\n",
    "# # Dir structure:\n",
    "# # <data_carla_night_dir>\n",
    "# #     packages10\n",
    "# #     packages11\n",
    "# #     ...\n",
    "\n",
    "# data_carla_night_train_file_list = get_carla_file_list(data_carla_night_dir, packages=['package10'], levels=['H', 'M', 'S'])\n",
    "# data_carla_night_val_file_list = get_carla_file_list(data_carla_night_dir, packages=['package11'], levels=['H', 'M', 'S'])\n",
    "\n",
    "# # # Toy example\n",
    "# # data_carla_night_train_file_list = data_carla_night_train_file_list[:10]\n",
    "# # data_carla_night_val_file_list = data_carla_night_val_file_list[:10]"
   ]
  },
  {
   "cell_type": "code",
   "execution_count": null,
   "metadata": {
    "colab": {
     "base_uri": "https://localhost:8080/"
    },
    "executionInfo": {
     "elapsed": 623,
     "status": "ok",
     "timestamp": 1650750038336,
     "user": {
      "displayName": "Tũn Tũn",
      "userId": "10147808466179585969"
     },
     "user_tz": 240
    },
    "id": "94f8319d-9a96-4c21-b142-f95f87226731",
    "outputId": "67bb9551-c439-4f9f-ed20-abe1cbf15f56"
   },
   "outputs": [],
   "source": [
    "# print('**************************************************')\n",
    "# print('Carla night clear')\n",
    "\n",
    "# def get_carla_night_clear_train_dicts():\n",
    "#     return get_carla_dicts(data_carla_night_train_file_list, data_carla_night_dir, clear=True, rain=False)\n",
    "\n",
    "# def get_carla_night_clear_val_dicts():\n",
    "#     return get_carla_dicts(data_carla_night_val_file_list, data_carla_night_dir, clear=True, rain=False)\n",
    "\n",
    "# if DEBUG == True:\n",
    "#     for dict in get_carla_night_clear_train_dicts()[:4]:\n",
    "#         print(dict)\n",
    "    \n",
    "# print(len(get_carla_night_clear_train_dicts())) # 2842\n",
    "# print(len(get_carla_night_clear_val_dicts()))   # 2974\n",
    "\n",
    "# print('\\n**************************************************')\n",
    "# print('Carla night rain')\n",
    "\n",
    "# def get_carla_night_rain_train_dicts():\n",
    "#     return get_carla_dicts(data_carla_night_train_file_list, data_carla_night_dir, clear=False, rain=True)\n",
    "\n",
    "# def get_carla_night_rain_val_dicts():\n",
    "#     return get_carla_dicts(data_carla_night_val_file_list, data_carla_night_dir, clear=False, rain=True)\n",
    "\n",
    "# if DEBUG == True:\n",
    "#     for dict in get_carla_night_rain_train_dicts()[:4]:\n",
    "#         print(dict)\n",
    "    \n",
    "# print(len(get_carla_night_rain_train_dicts())) # 2842\n",
    "# print(len(get_carla_night_rain_val_dicts()))   # 2974\n",
    "\n",
    "# print('\\n**************************************************')\n",
    "# print('Carla night all')\n",
    "\n",
    "# def get_carla_night_all_train_dicts():\n",
    "#     return get_carla_dicts(data_carla_night_train_file_list, data_carla_night_dir, clear=True, rain=True)\n",
    "\n",
    "# def get_carla_night_all_val_dicts():\n",
    "#     return get_carla_dicts(data_carla_night_val_file_list, data_carla_night_dir, clear=True, rain=True)\n",
    "\n",
    "# if DEBUG == True:\n",
    "#     for dict in get_carla_night_all_train_dicts()[:4]:\n",
    "#         print(dict)\n",
    "    \n",
    "# print(len(get_carla_night_all_train_dicts())) # 2842*2 = 5684\n",
    "# print(len(get_carla_night_all_val_dicts()))   # 2974*2 = 5948"
   ]
  },
  {
   "cell_type": "markdown",
   "metadata": {
    "id": "afbc81f4-92f1-42a3-895e-ae0eda756ada",
    "jp-MarkdownHeadingCollapsed": true,
    "tags": []
   },
   "source": [
    "## Carla derained"
   ]
  },
  {
   "cell_type": "code",
   "execution_count": null,
   "metadata": {
    "id": "662f73de-107b-4063-86b2-b1017f51339d"
   },
   "outputs": [],
   "source": [
    "# data_carla_derained_dir = data_dir + 'RainRemoval/'\n",
    "\n",
    "# # data_carla_derained_val_file_list = get_carla_file_list(data_carla_derained_dir, packages=['generated_test'], levels=['H', 'M', 'S'])\n",
    "# data_carla_derained_val_file_list = get_carla_file_list(data_carla_derained_dir, packages=['generated_test'], levels=['H'])\n",
    "# print(data_carla_derained_val_file_list[:4])"
   ]
  },
  {
   "cell_type": "code",
   "execution_count": null,
   "metadata": {
    "id": "6488872e-2f31-4f48-9111-a9136abbe72a"
   },
   "outputs": [],
   "source": [
    "# print('**************************************************')\n",
    "# print('Carla derained')\n",
    "\n",
    "# def get_carla_derained_val_dicts():\n",
    "#     return get_carla_dicts(data_carla_derained_val_file_list, data_carla_derained_dir, clear=False, rain=True)\n",
    "\n",
    "# DEBUG = True\n",
    "# if DEBUG == True:\n",
    "#     for dict in get_carla_derained_val_dicts()[:4]:\n",
    "#         print(dict)\n",
    "    \n",
    "# print(len(get_carla_derained_val_dicts()))"
   ]
  },
  {
   "cell_type": "markdown",
   "metadata": {
    "id": "CEjETjkApDCI"
   },
   "source": [
    "## Cityscapes"
   ]
  },
  {
   "cell_type": "code",
   "execution_count": 5,
   "metadata": {
    "colab": {
     "base_uri": "https://localhost:8080/"
    },
    "executionInfo": {
     "elapsed": 13,
     "status": "ok",
     "timestamp": 1650750038337,
     "user": {
      "displayName": "Tũn Tũn",
      "userId": "10147808466179585969"
     },
     "user_tz": 240
    },
    "id": "959352e0-9de4-478e-8a51-f6ca3fa1bb3b",
    "outputId": "295d485e-3887-4f44-fdce-9e9e01724772"
   },
   "outputs": [
    {
     "name": "stdout",
     "output_type": "stream",
     "text": [
      "Number of cities: 18\n",
      "Number of images: 2276\n",
      "Number of images: 699\n"
     ]
    }
   ],
   "source": [
    "data_dir_cityscapes = data_dir + 'Cityscapes/leftImg8bit/train/'\n",
    "data_dir_rain_addition = data_dir + 'RainAddition/train/'\n",
    "anno_dir_cityscapes = data_dir + 'Cityscapes/gtFine/train/'\n",
    "# anno_dir_cityscapes = data_dir + 'Cityscapes/mapped_labels/train/'\n",
    "\n",
    "city_name_list, _ = create_file_list(data_dir_cityscapes)\n",
    "print(f'Number of cities: {len(city_name_list)}')\n",
    "\n",
    "data_cityscapes_train_file_list = get_cityscapes_file_list(data_dir_cityscapes, cities=city_name_list[:13], levels=['H', 'M', 'S'])\n",
    "data_cityscapes_val_file_list   = get_cityscapes_file_list(data_dir_cityscapes, cities=city_name_list[13:], levels=['H', 'M', 'S'])\n",
    "\n",
    "# # Toy example\n",
    "# data_cityscapes_train_file_list = data_cityscapes_train_file_list[:10]\n",
    "# data_cityscapes_val_file_list = data_cityscapes_val_file_list[:10]"
   ]
  },
  {
   "cell_type": "code",
   "execution_count": 9,
   "metadata": {
    "colab": {
     "base_uri": "https://localhost:8080/"
    },
    "executionInfo": {
     "elapsed": 244,
     "status": "ok",
     "timestamp": 1650750038571,
     "user": {
      "displayName": "Tũn Tũn",
      "userId": "10147808466179585969"
     },
     "user_tz": 240
    },
    "id": "e964bcb7-123a-4a4a-975b-d3b7554551d7",
    "outputId": "7f378cd1-36fa-4078-dba3-71451602ec1d"
   },
   "outputs": [
    {
     "name": "stdout",
     "output_type": "stream",
     "text": [
      "**************************************************\n",
      "Cityscapes clear\n",
      "{'file_name': '/home/tunx404/Miscellaneous/data/Cityscapes/leftImg8bit/train/stuttgart/stuttgart_000000_000019_leftImg8bit.png', 'height': 1024, 'width': 2048, 'image_id': 'stuttgart_000000_000019_clear', 'sem_seg_file_name': '/home/tunx404/Miscellaneous/data/Cityscapes/mapped_labels/train/stuttgart/stuttgart_000000_000019_train.png'}\n",
      "{'file_name': '/home/tunx404/Miscellaneous/data/Cityscapes/leftImg8bit/train/stuttgart/stuttgart_000001_000019_leftImg8bit.png', 'height': 1024, 'width': 2048, 'image_id': 'stuttgart_000001_000019_clear', 'sem_seg_file_name': '/home/tunx404/Miscellaneous/data/Cityscapes/mapped_labels/train/stuttgart/stuttgart_000001_000019_train.png'}\n",
      "{'file_name': '/home/tunx404/Miscellaneous/data/Cityscapes/leftImg8bit/train/stuttgart/stuttgart_000002_000019_leftImg8bit.png', 'height': 1024, 'width': 2048, 'image_id': 'stuttgart_000002_000019_clear', 'sem_seg_file_name': '/home/tunx404/Miscellaneous/data/Cityscapes/mapped_labels/train/stuttgart/stuttgart_000002_000019_train.png'}\n",
      "{'file_name': '/home/tunx404/Miscellaneous/data/Cityscapes/leftImg8bit/train/stuttgart/stuttgart_000003_000019_leftImg8bit.png', 'height': 1024, 'width': 2048, 'image_id': 'stuttgart_000003_000019_clear', 'sem_seg_file_name': '/home/tunx404/Miscellaneous/data/Cityscapes/mapped_labels/train/stuttgart/stuttgart_000003_000019_train.png'}\n",
      "699\n",
      "\n",
      "**************************************************\n",
      "Cityscapes rain\n",
      "{'file_name': '/home/tunx404/Miscellaneous/data/RainAddition/train/stuttgart/stuttgart_000000_000019_H.png', 'height': 1024, 'width': 2048, 'image_id': 'stuttgart_000000_000019_rain', 'sem_seg_file_name': '/home/tunx404/Miscellaneous/data/Cityscapes/mapped_labels/train/stuttgart/stuttgart_000000_000019_train.png'}\n",
      "{'file_name': '/home/tunx404/Miscellaneous/data/RainAddition/train/stuttgart/stuttgart_000001_000019_M.png', 'height': 1024, 'width': 2048, 'image_id': 'stuttgart_000001_000019_rain', 'sem_seg_file_name': '/home/tunx404/Miscellaneous/data/Cityscapes/mapped_labels/train/stuttgart/stuttgart_000001_000019_train.png'}\n",
      "{'file_name': '/home/tunx404/Miscellaneous/data/RainAddition/train/stuttgart/stuttgart_000002_000019_S.png', 'height': 1024, 'width': 2048, 'image_id': 'stuttgart_000002_000019_rain', 'sem_seg_file_name': '/home/tunx404/Miscellaneous/data/Cityscapes/mapped_labels/train/stuttgart/stuttgart_000002_000019_train.png'}\n",
      "{'file_name': '/home/tunx404/Miscellaneous/data/RainAddition/train/stuttgart/stuttgart_000003_000019_H.png', 'height': 1024, 'width': 2048, 'image_id': 'stuttgart_000003_000019_rain', 'sem_seg_file_name': '/home/tunx404/Miscellaneous/data/Cityscapes/mapped_labels/train/stuttgart/stuttgart_000003_000019_train.png'}\n",
      "699\n"
     ]
    }
   ],
   "source": [
    "print('**************************************************')\n",
    "print('Cityscapes clear')\n",
    "\n",
    "def get_cityscapes_clear_train_dicts():\n",
    "    return get_cityscapes_dicts(data_cityscapes_train_file_list, data_dir_cityscapes, data_dir_rain_addition, anno_dir_cityscapes, clear=True, rain=False, levels=['H', 'M', 'S'])\n",
    "\n",
    "def get_cityscapes_clear_val_dicts():\n",
    "    return get_cityscapes_dicts(data_cityscapes_val_file_list, data_dir_cityscapes, data_dir_rain_addition, anno_dir_cityscapes, clear=True, rain=False, levels=['H', 'M', 'S'])\n",
    "\n",
    "if DEBUG == True:\n",
    "    for dict in get_cityscapes_clear_val_dicts()[:4]:\n",
    "        print(dict)\n",
    "    \n",
    "print(len(get_cityscapes_clear_val_dicts()))   # 699\n",
    "\n",
    "print('\\n**************************************************')\n",
    "print('Cityscapes rain')\n",
    "\n",
    "def get_cityscapes_rain_train_dicts():\n",
    "    return get_cityscapes_dicts(data_cityscapes_train_file_list, data_dir_cityscapes, data_dir_rain_addition, anno_dir_cityscapes, clear=False, rain=True, levels=['H', 'M', 'S'])\n",
    "\n",
    "def get_cityscapes_rain_val_dicts():\n",
    "    return get_cityscapes_dicts(data_cityscapes_val_file_list, data_dir_cityscapes, data_dir_rain_addition, anno_dir_cityscapes, clear=False, rain=True, levels=['H', 'M', 'S'])\n",
    "\n",
    "if DEBUG == True:\n",
    "    for dict in get_cityscapes_rain_val_dicts()[:4]:\n",
    "        print(dict)\n",
    "        \n",
    "print(len(get_cityscapes_rain_val_dicts()))   # 699"
   ]
  },
  {
   "cell_type": "code",
   "execution_count": 13,
   "metadata": {},
   "outputs": [],
   "source": [
    "import csv\n",
    "clear_dict = get_cityscapes_clear_val_dicts()\n",
    "rain_dict = get_cityscapes_rain_val_dicts()\n",
    "with open('a.csv', 'w') as csv_file: \n",
    "    csv_writer = csv.writer(csv_file)\n",
    "    for i in range(len(get_cityscapes_rain_val_dicts())):\n",
    "        row = [rain_dict[i]['file_name'], clear_dict[i]['file_name']]\n",
    "        # print(row)\n",
    "        csv_writer.writerow(row)"
   ]
  },
  {
   "cell_type": "markdown",
   "metadata": {
    "id": "0gefPQJF9bmn"
   },
   "source": [
    "## Combined"
   ]
  },
  {
   "cell_type": "code",
   "execution_count": 1,
   "metadata": {
    "colab": {
     "base_uri": "https://localhost:8080/"
    },
    "executionInfo": {
     "elapsed": 631,
     "status": "ok",
     "timestamp": 1650750039196,
     "user": {
      "displayName": "Tũn Tũn",
      "userId": "10147808466179585969"
     },
     "user_tz": 240
    },
    "id": "8wECyKDe9bCj",
    "outputId": "383538b1-c424-4e39-a8c2-07eed27bf439"
   },
   "outputs": [
    {
     "ename": "SyntaxError",
     "evalue": "invalid syntax (3551406015.py, line 74)",
     "output_type": "error",
     "traceback": [
      "\u001b[0;36m  File \u001b[0;32m\"/tmp/ipykernel_63045/3551406015.py\"\u001b[0;36m, line \u001b[0;32m74\u001b[0m\n\u001b[0;31m    Execute only once\u001b[0m\n\u001b[0m            ^\u001b[0m\n\u001b[0;31mSyntaxError\u001b[0m\u001b[0;31m:\u001b[0m invalid syntax\n"
     ]
    }
   ],
   "source": [
    "# print('**************************************************')\n",
    "# print('Combined clear')\n",
    "\n",
    "# def get_combined_clear_train_dicts():\n",
    "#     return get_carla_clear_train_dicts() + get_cityscapes_clear_train_dicts()\n",
    "\n",
    "# def get_combined_clear_val_dicts():\n",
    "#     return get_carla_clear_val_dicts() + get_cityscapes_clear_val_dicts()\n",
    "\n",
    "# if DEBUG == True:\n",
    "#     for dict in get_combined_clear_train_dicts()[:4]:\n",
    "#         print(dict)\n",
    "#     for dict in get_combined_clear_train_dicts()[-4:]:\n",
    "#         print(dict)\n",
    "    \n",
    "# print(len(get_combined_clear_train_dicts())) # 2990 + 2276 = 5266\n",
    "# print(len(get_combined_clear_val_dicts()))   # 1173 + 699  = 1872\n",
    "\n",
    "# print('\\n**************************************************')\n",
    "# print('Combined rain')\n",
    "\n",
    "# def get_combined_rain_train_dicts():\n",
    "#     return get_carla_rain_train_dicts() + get_cityscapes_rain_train_dicts()\n",
    "\n",
    "# def get_combined_rain_val_dicts():\n",
    "#     return get_carla_rain_val_dicts() + get_cityscapes_rain_val_dicts()\n",
    "\n",
    "# if DEBUG == True:\n",
    "#     for dict in get_combined_rain_train_dicts()[:4]:\n",
    "#         print(dict)\n",
    "#     for dict in get_combined_rain_train_dicts()[-4:]:\n",
    "#         print(dict)\n",
    "    \n",
    "# print(len(get_combined_rain_train_dicts())) # 2990 + 2276 = 5266\n",
    "# print(len(get_combined_rain_val_dicts()))   # 1173 + 699  = 1872\n",
    "\n",
    "# print('\\n**************************************************')\n",
    "# print('Combined all')\n",
    "\n",
    "# def get_combined_all_train_dicts():\n",
    "#     return get_carla_all_train_dicts() + get_cityscapes_all_train_dicts()\n",
    "\n",
    "# def get_combined_all_val_dicts():\n",
    "#     return get_carla_all_val_dicts()[:1000] + get_cityscapes_all_val_dicts()[:1000]\n",
    "\n",
    "# if DEBUG == True:\n",
    "#     for dict in get_combined_all_train_dicts()[:4]:\n",
    "#         print(dict)\n",
    "#     for dict in get_combined_all_train_dicts()[-4:]:\n",
    "#         print(dict)\n",
    "\n",
    "# print(len(get_combined_all_train_dicts())) # 5266*2 = 10532\n",
    "# print(len(get_combined_all_val_dicts()))   # 1872*2 = 3744\n",
    "\n",
    "# print('\\n**************************************************')\n",
    "# print('Combined all night')\n",
    "\n",
    "# def get_combined_all_night_train_dicts():\n",
    "#     return get_combined_all_train_dicts() + get_carla_night_all_train_dicts()\n",
    "\n",
    "# def get_combined_all_night_val_dicts():\n",
    "#     return get_combined_all_val_dicts() + get_carla_night_all_val_dicts()[:1000]\n",
    "\n",
    "# if DEBUG == True:\n",
    "#     for dict in get_combined_all_night_train_dicts()[:4]:\n",
    "#         print(dict)\n",
    "#     for dict in get_combined_all_night_val_dicts()[-4:]:\n",
    "#         print(dict)\n",
    "\n",
    "# print(len(get_combined_all_night_train_dicts())) # 10532 + 5684 = 16216\n",
    "# print(len(get_combined_all_night_val_dicts()))   # 3744  + 5948 = 9692\n",
    "\n",
    "# Convert labels to train IDs\n",
    "Execute only once"
   ]
  },
  {
   "cell_type": "code",
   "execution_count": null,
   "metadata": {
    "id": "d467859a-d17d-481f-aa6f-553a513bdfc7"
   },
   "outputs": [],
   "source": [
    "# %cd '/home/tunx404/Miscellaneous/data/Cityscapes/mapped_labels/train/'\n",
    "# for city_name in city_name_list:\n",
    "#     !mkdir $city_name"
   ]
  },
  {
   "cell_type": "code",
   "execution_count": null,
   "metadata": {
    "id": "80ddac12"
   },
   "outputs": [],
   "source": [
    "# convert_carla(data_carla_train_file_list, data_carla_dir)\n",
    "# convert_carla(data_carla_val_file_list, data_carla_dir)\n",
    "\n",
    "# convert_carla(data_carla_night_train_file_list, data_carla_night_dir)\n",
    "# convert_carla(data_carla_night_val_file_list, data_carla_night_dir)\n",
    "\n",
    "# convert_cityscapes(data_cityscapes_train_file_list, anno_dir_cityscapes, output_dir='/home/tunx404/Miscellaneous/data/Cityscapes/mapped_labels/train/')\n",
    "# convert_cityscapes(data_cityscapes_val_file_list, anno_dir_cityscapes, output_dir='/home/tunx404/Miscellaneous/data/Cityscapes/mapped_labels/train/')"
   ]
  },
  {
   "cell_type": "markdown",
   "metadata": {
    "id": "25818909"
   },
   "source": [
    "# Datasets"
   ]
  },
  {
   "cell_type": "code",
   "execution_count": null,
   "metadata": {
    "colab": {
     "base_uri": "https://localhost:8080/"
    },
    "executionInfo": {
     "elapsed": 588,
     "status": "ok",
     "timestamp": 1650750039781,
     "user": {
      "displayName": "Tũn Tũn",
      "userId": "10147808466179585969"
     },
     "user_tz": 240
    },
    "id": "33d9e8dd",
    "outputId": "90ce465b-86ec-4a75-a9a9-cfc4affb6a48"
   },
   "outputs": [],
   "source": [
    "DatasetCatalog.clear()\n",
    "\n",
    "print('**************************************************')\n",
    "\n",
    "print('Carla clear dataset')\n",
    "carla_clear_dataset = Detectron2CustomDataset('carla_clear_train', 'carla_clear_val', get_carla_clear_train_dicts, get_carla_clear_val_dicts)\n",
    "# carla_clear_dataset.visualize_dataset(num_samples=10, size=(20, 10), show_original=True)\n",
    "            \n",
    "print('\\nCarla rain dataset')\n",
    "carla_rain_dataset = Detectron2CustomDataset('carla_rain_train', 'carla_rain_val', get_carla_rain_train_dicts, get_carla_rain_val_dicts)\n",
    "# carla_rain_dataset.visualize_dataset(num_samples=1, size=(20, 10), show_original=True)\n",
    "\n",
    "# print('\\nCarla derained dataset')\n",
    "# carla_derained_dataset = Detectron2CustomDataset('carla_derained_train', 'carla_derained_val', get_carla_rain_train_dicts, get_carla_derained_val_dicts)\n",
    "# # carla_rain_dataset.visualize_dataset(num_samples=1, size=(20, 10), show_original=True)\n",
    "\n",
    "##################################################\n",
    "\n",
    "print('\\n**************************************************')\n",
    "\n",
    "print('Carla night clear dataset')\n",
    "carla_night_clear_dataset = Detectron2CustomDataset('carla_night_clear_train', 'carla_night_clear_val', get_carla_night_clear_train_dicts, get_carla_night_clear_val_dicts)\n",
    "# carla_night_clear_dataset.visualize_dataset(num_samples=1, size=(20, 10), show_original=True)\n",
    "            \n",
    "print('\\nCarla night rain dataset')\n",
    "carla_night_rain_dataset = Detectron2CustomDataset('carla_night_rain_train', 'carla_night_rain_val', get_carla_night_rain_train_dicts, get_carla_night_rain_val_dicts)\n",
    "# carla_night_rain_dataset.visualize_dataset(num_samples=1, size=(20, 10), show_original=True)\n",
    "\n",
    "##################################################\n",
    "\n",
    "print('\\n**************************************************')\n",
    "\n",
    "print('Cityscapes clear dataset')\n",
    "cityscapes_clear_dataset = Detectron2CustomDataset('cityscapes_clear_train', 'cityscapes_clear_val', get_cityscapes_clear_train_dicts, get_cityscapes_clear_val_dicts)\n",
    "# cityscapes_clear_dataset.visualize_dataset(num_samples=1, size=(20, 10), show_original=True)\n",
    "\n",
    "print('\\nCityscapes rain dataset')\n",
    "cityscapes_rain_dataset = Detectron2CustomDataset('cityscapes_rain_train', 'cityscapes_rain_val', get_cityscapes_rain_train_dicts, get_cityscapes_rain_val_dicts)\n",
    "# cityscapes_rain_dataset.visualize_dataset(num_samples=1, size=(20, 10), show_original=True)\n",
    "\n",
    "##################################################\n",
    "\n",
    "print('\\n**************************************************')\n",
    "            \n",
    "print('Combined clear dataset')\n",
    "combined_clear_dataset = Detectron2CustomDataset('combined_clear_train', 'combined_clear_val', get_combined_clear_train_dicts, get_combined_clear_val_dicts)\n",
    "# combined_clear_dataset.visualize_dataset(num_samples=1, size=(20, 10), show_original=True)\n",
    "            \n",
    "print('\\nCombined rain dataset')\n",
    "combined_rain_dataset = Detectron2CustomDataset('combined_rain_train', 'combined_rain_val', get_combined_rain_train_dicts, get_combined_rain_val_dicts)\n",
    "# combined_rain_dataset.visualize_dataset(num_samples=1, size=(20, 10), show_original=True)\n",
    "            \n",
    "print('\\nCombined all dataset')\n",
    "combined_all_dataset = Detectron2CustomDataset('combined_all_train', 'combined_all_val', get_combined_all_train_dicts, get_combined_all_val_dicts)\n",
    "# combined_all_dataset.visualize_dataset(num_samples=1, size=(20, 10), show_original=True)\n",
    "\n",
    "##################################################\n",
    "\n",
    "print('\\n**************************************************')\n",
    "            \n",
    "print('Combined all night dataset')\n",
    "combined_all_night_dataset = Detectron2CustomDataset('combined_all_night_train', 'combined_all_night_val', get_combined_all_night_train_dicts, get_combined_all_night_val_dicts)\n",
    "# combined_all_dataset.visualize_dataset(num_samples=20, size=(20, 10), show_original=True)"
   ]
  },
  {
   "cell_type": "markdown",
   "metadata": {
    "id": "l0TtWq0-DxjT"
   },
   "source": [
    "# Train"
   ]
  },
  {
   "cell_type": "code",
   "execution_count": null,
   "metadata": {
    "colab": {
     "base_uri": "https://localhost:8080/"
    },
    "id": "6bd2452e",
    "outputId": "6b55e451-4d71-4cef-94a4-680b0b443221"
   },
   "outputs": [],
   "source": [
    "# trainer_all = Detectron2Trainer('combined_all_night_train', 'combined_all_night_val', output_folder='./output_all_night_40k')\n",
    "# trainer_all.load()\n",
    "# trainer_all.train()"
   ]
  },
  {
   "cell_type": "code",
   "execution_count": null,
   "metadata": {
    "id": "mPFpcmeBIxQQ"
   },
   "outputs": [],
   "source": [
    "# trainer_clear = Detectron2Trainer('cityscapes_clear_train', 'cityscapes_clear_val', output_folder='./output_cityscapes_clear_20k')\n",
    "# trainer_clear.load()\n",
    "# trainer_clear.train()"
   ]
  },
  {
   "cell_type": "code",
   "execution_count": null,
   "metadata": {
    "id": "39c385b8"
   },
   "outputs": [],
   "source": [
    "# %load_ext tensorboard\n",
    "# %tensorboard --logdir output_all_40k"
   ]
  },
  {
   "cell_type": "code",
   "execution_count": null,
   "metadata": {
    "id": "aVfRixZjJS_a"
   },
   "outputs": [],
   "source": [
    "# %load_ext tensorboard\n",
    "# %tensorboard --logdir output_clear_20k"
   ]
  },
  {
   "cell_type": "markdown",
   "metadata": {
    "id": "t5iO65WNDzRa"
   },
   "source": [
    "# Evaluate"
   ]
  },
  {
   "cell_type": "markdown",
   "metadata": {
    "id": "8BPrv2unBu_5"
   },
   "source": [
    "## Model trained on all"
   ]
  },
  {
   "cell_type": "code",
   "execution_count": null,
   "metadata": {
    "id": "07d49a7f"
   },
   "outputs": [],
   "source": [
    "# trainer_all = Detectron2Trainer('combined_all_train', 'combined_all_val', output_folder='./output_all_40k')\n",
    "# trainer_all.test()"
   ]
  },
  {
   "cell_type": "code",
   "execution_count": null,
   "metadata": {
    "id": "5LBmVarGBljx"
   },
   "outputs": [],
   "source": [
    "# trainer_all = Detectron2Trainer('combined_all_train', 'combined_clear_val', output_folder='./output_all_40k')\n",
    "# trainer_all.test()"
   ]
  },
  {
   "cell_type": "code",
   "execution_count": null,
   "metadata": {
    "id": "qyXzC8KvEBHx"
   },
   "outputs": [],
   "source": [
    "# trainer_all = Detectron2Trainer('combined_all_train', 'combined_rain_val', output_folder='./output_all_40k')\n",
    "# trainer_all.test()"
   ]
  },
  {
   "cell_type": "code",
   "execution_count": null,
   "metadata": {
    "id": "AhoGPVnKHiMw"
   },
   "outputs": [],
   "source": [
    "# trainer_all = Detectron2Trainer('combined_all_train', 'carla_rain_val', output_folder='./output_all_40k')\n",
    "# trainer_all.test()"
   ]
  },
  {
   "cell_type": "code",
   "execution_count": null,
   "metadata": {
    "id": "67qzQSBbJK3G"
   },
   "outputs": [],
   "source": [
    "# trainer_all = Detectron2Trainer('combined_all_train', 'cityscapes_rain_val', output_folder='./output_all_40k')\n",
    "# trainer_all.test()"
   ]
  },
  {
   "cell_type": "markdown",
   "metadata": {
    "id": "eCcw0VZ-Bzig"
   },
   "source": [
    "## Model trained on clear"
   ]
  },
  {
   "cell_type": "code",
   "execution_count": null,
   "metadata": {
    "id": "PlZ3ag3oEJoE"
   },
   "outputs": [],
   "source": [
    "# trainer_clear = Detectron2Trainer('combined_clear_train', 'combined_all_val', output_folder='./output_clear')\n",
    "# trainer_clear.test()"
   ]
  },
  {
   "cell_type": "code",
   "execution_count": null,
   "metadata": {
    "id": "Pca4DugyR6wJ"
   },
   "outputs": [],
   "source": [
    "# trainer_clear = Detectron2Trainer('combined_clear_train', 'combined_clear_val', output_folder='./output_clear')\n",
    "# trainer_clear.test()"
   ]
  },
  {
   "cell_type": "code",
   "execution_count": null,
   "metadata": {
    "id": "RHbt_C-U0bzO"
   },
   "outputs": [],
   "source": [
    "# trainer_clear = Detectron2Trainer('combined_clear_train', 'combined_rain_val', output_folder='./output_clear')\n",
    "# trainer_clear.test()"
   ]
  },
  {
   "cell_type": "code",
   "execution_count": null,
   "metadata": {
    "id": "AM8SDAduEQc0"
   },
   "outputs": [],
   "source": [
    "# trainer_clear = Detectron2Trainer('combined_clear_train', 'carla_rain_val', output_folder='./output_clear_20k')\n",
    "# trainer_clear.test()"
   ]
  },
  {
   "cell_type": "code",
   "execution_count": null,
   "metadata": {
    "id": "a85677b5-7066-4761-b82e-563fcdc60cfb"
   },
   "outputs": [],
   "source": [
    "# trainer_clear = Detectron2Trainer('combined_clear_train', 'carla_derained_val', output_folder='./output_clear_20k')\n",
    "# trainer_clear.test()"
   ]
  },
  {
   "cell_type": "code",
   "execution_count": null,
   "metadata": {
    "id": "C4geX49UE2Kn"
   },
   "outputs": [],
   "source": [
    "# trainer_clear = Detectron2Trainer('combined_clear_train', 'cityscapes_rain_val', output_folder='./output_clear')\n",
    "# trainer_clear.test()"
   ]
  }
 ],
 "metadata": {
  "accelerator": "GPU",
  "colab": {
   "collapsed_sections": [
    "KVqmnxQOn4Nm"
   ],
   "name": "detectron2_trainer.ipynb",
   "provenance": []
  },
  "kernelspec": {
   "display_name": "Python 3 (ipykernel)",
   "language": "python",
   "name": "python3"
  },
  "language_info": {
   "codemirror_mode": {
    "name": "ipython",
    "version": 3
   },
   "file_extension": ".py",
   "mimetype": "text/x-python",
   "name": "python",
   "nbconvert_exporter": "python",
   "pygments_lexer": "ipython3",
   "version": "3.7.6"
  }
 },
 "nbformat": 4,
 "nbformat_minor": 5
}
